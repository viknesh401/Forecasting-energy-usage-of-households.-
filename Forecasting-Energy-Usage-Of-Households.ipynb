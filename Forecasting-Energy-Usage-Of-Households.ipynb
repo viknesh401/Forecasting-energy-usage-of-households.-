{
 "cells": [
  {
   "cell_type": "code",
   "execution_count": null,
   "metadata": {},
   "outputs": [],
   "source": [
    "#Import libraries\n",
    "from IPython.core.display import display, HTML\n",
    "from IPython.core.interactiveshell import InteractiveShell\n",
    "InteractiveShell.ast_node_interactivity=\"all\"\n",
    "import pandas as pd\n",
    "import numpy as np\n",
    "import matplotlib.pyplot as plt\n",
    "import seaborn as sns\n",
    "from datetime import datetime\n",
    "import calendar\n",
    "from plotly.offline import iplot,init_notebook_mode\n",
    "init_notebook_mode()\n",
    "from plotly import tools\n",
    "import plotly.graph_objs as go \n",
    "import warnings\n",
    "warnings.filterwarnings(\"ignore\")\n",
    "% matplotlib inline"
   ]
  },
  {
   "cell_type": "code",
   "execution_count": null,
   "metadata": {},
   "outputs": [],
   "source": [
    "# Reading ACORN classification data\n",
    "df_acorn = pd.read_csv(\"acorn_details.xls\", engine='python')"
   ]
  },
  {
   "cell_type": "code",
   "execution_count": null,
   "metadata": {},
   "outputs": [],
   "source": [
    "df_acorn.head(2)"
   ]
  },
  {
   "cell_type": "code",
   "execution_count": null,
   "metadata": {},
   "outputs": [],
   "source": [
    "# Reading Tariff data\n",
    "df_tariffs = pd.read_csv(\"FinalData_SmartMeter/Tariffs.csv\")"
   ]
  },
  {
   "cell_type": "code",
   "execution_count": null,
   "metadata": {},
   "outputs": [],
   "source": [
    "df_tariffs.head(2)"
   ]
  },
  {
   "cell_type": "code",
   "execution_count": 2,
   "metadata": {},
   "outputs": [],
   "source": [
    "# Reading Final.csv created during data preparation\n",
    "df_final_data = pd.read_csv(\"final.csv\")"
   ]
  },
  {
   "cell_type": "code",
   "execution_count": 3,
   "metadata": {},
   "outputs": [
    {
     "data": {
      "text/html": [
       "<div>\n",
       "<style scoped>\n",
       "    .dataframe tbody tr th:only-of-type {\n",
       "        vertical-align: middle;\n",
       "    }\n",
       "\n",
       "    .dataframe tbody tr th {\n",
       "        vertical-align: top;\n",
       "    }\n",
       "\n",
       "    .dataframe thead th {\n",
       "        text-align: right;\n",
       "    }\n",
       "</style>\n",
       "<table border=\"1\" class=\"dataframe\">\n",
       "  <thead>\n",
       "    <tr style=\"text-align: right;\">\n",
       "      <th></th>\n",
       "      <th>LCLid</th>\n",
       "      <th>DateTime</th>\n",
       "      <th>KWh</th>\n",
       "      <th>year</th>\n",
       "      <th>month</th>\n",
       "      <th>day</th>\n",
       "      <th>hour</th>\n",
       "      <th>date</th>\n",
       "      <th>time</th>\n",
       "      <th>Std or ToU tariff</th>\n",
       "      <th>Acorn</th>\n",
       "      <th>Acorn_grouped</th>\n",
       "      <th>quarter</th>\n",
       "    </tr>\n",
       "  </thead>\n",
       "  <tbody>\n",
       "    <tr>\n",
       "      <th>0</th>\n",
       "      <td>MAC002604</td>\n",
       "      <td>2012-07-10 12:00:00</td>\n",
       "      <td>0.263</td>\n",
       "      <td>2012</td>\n",
       "      <td>7</td>\n",
       "      <td>10</td>\n",
       "      <td>12</td>\n",
       "      <td>2012-07-10</td>\n",
       "      <td>12:00 PM</td>\n",
       "      <td>ToU</td>\n",
       "      <td>C</td>\n",
       "      <td>Affluent</td>\n",
       "      <td>2012 Q3</td>\n",
       "    </tr>\n",
       "    <tr>\n",
       "      <th>1</th>\n",
       "      <td>MAC002604</td>\n",
       "      <td>2012-07-10 12:30:00</td>\n",
       "      <td>0.070</td>\n",
       "      <td>2012</td>\n",
       "      <td>7</td>\n",
       "      <td>10</td>\n",
       "      <td>12</td>\n",
       "      <td>2012-07-10</td>\n",
       "      <td>12:30 PM</td>\n",
       "      <td>ToU</td>\n",
       "      <td>C</td>\n",
       "      <td>Affluent</td>\n",
       "      <td>2012 Q3</td>\n",
       "    </tr>\n",
       "  </tbody>\n",
       "</table>\n",
       "</div>"
      ],
      "text/plain": [
       "       LCLid             DateTime    KWh  year  month  day  hour        date  \\\n",
       "0  MAC002604  2012-07-10 12:00:00  0.263  2012      7   10    12  2012-07-10   \n",
       "1  MAC002604  2012-07-10 12:30:00  0.070  2012      7   10    12  2012-07-10   \n",
       "\n",
       "       time Std or ToU tariff Acorn Acorn_grouped  quarter  \n",
       "0  12:00 PM               ToU     C      Affluent  2012 Q3  \n",
       "1  12:30 PM               ToU     C      Affluent  2012 Q3  "
      ]
     },
     "execution_count": 3,
     "metadata": {},
     "output_type": "execute_result"
    }
   ],
   "source": [
    "df_final_data.head(2)"
   ]
  },
  {
   "cell_type": "code",
   "execution_count": 32,
   "metadata": {},
   "outputs": [],
   "source": [
    "# Reading weather.csv created during data preparation\n",
    "df_weather = pd.read_csv(\"weather.csv\")"
   ]
  },
  {
   "cell_type": "code",
   "execution_count": 33,
   "metadata": {},
   "outputs": [
    {
     "data": {
      "text/html": [
       "<div>\n",
       "<style scoped>\n",
       "    .dataframe tbody tr th:only-of-type {\n",
       "        vertical-align: middle;\n",
       "    }\n",
       "\n",
       "    .dataframe tbody tr th {\n",
       "        vertical-align: top;\n",
       "    }\n",
       "\n",
       "    .dataframe thead th {\n",
       "        text-align: right;\n",
       "    }\n",
       "</style>\n",
       "<table border=\"1\" class=\"dataframe\">\n",
       "  <thead>\n",
       "    <tr style=\"text-align: right;\">\n",
       "      <th></th>\n",
       "      <th>month</th>\n",
       "      <th>temperature</th>\n",
       "    </tr>\n",
       "  </thead>\n",
       "  <tbody>\n",
       "    <tr>\n",
       "      <th>0</th>\n",
       "      <td>Jan</td>\n",
       "      <td>4.506828</td>\n",
       "    </tr>\n",
       "    <tr>\n",
       "      <th>1</th>\n",
       "      <td>Feb</td>\n",
       "      <td>3.800536</td>\n",
       "    </tr>\n",
       "  </tbody>\n",
       "</table>\n",
       "</div>"
      ],
      "text/plain": [
       "  month  temperature\n",
       "0   Jan     4.506828\n",
       "1   Feb     3.800536"
      ]
     },
     "execution_count": 33,
     "metadata": {},
     "output_type": "execute_result"
    }
   ],
   "source": [
    "df_weather.head(2)"
   ]
  },
  {
   "cell_type": "code",
   "execution_count": 11,
   "metadata": {},
   "outputs": [],
   "source": [
    "col_pal = [\"#0E7C7B\", \"#E3B505\", \"#B8336A\", \"#2E282A\", \"#7ABB77\", \"#FF5A5F\" ]\n",
    "sns.set_palette(sns.color_palette(col_pal))"
   ]
  },
  {
   "cell_type": "code",
   "execution_count": 12,
   "metadata": {
    "scrolled": true
   },
   "outputs": [
    {
     "data": {
      "text/html": [
       "<div>\n",
       "<style scoped>\n",
       "    .dataframe tbody tr th:only-of-type {\n",
       "        vertical-align: middle;\n",
       "    }\n",
       "\n",
       "    .dataframe tbody tr th {\n",
       "        vertical-align: top;\n",
       "    }\n",
       "\n",
       "    .dataframe thead th {\n",
       "        text-align: right;\n",
       "    }\n",
       "</style>\n",
       "<table border=\"1\" class=\"dataframe\">\n",
       "  <thead>\n",
       "    <tr style=\"text-align: right;\">\n",
       "      <th>REFERENCE</th>\n",
       "      <th>£80,000-£100,000</th>\n",
       "      <th>Drawing on savings or running into debt</th>\n",
       "    </tr>\n",
       "  </thead>\n",
       "  <tbody>\n",
       "    <tr>\n",
       "      <th>A</th>\n",
       "      <td>304</td>\n",
       "      <td>108</td>\n",
       "    </tr>\n",
       "    <tr>\n",
       "      <th>B</th>\n",
       "      <td>247</td>\n",
       "      <td>108</td>\n",
       "    </tr>\n",
       "    <tr>\n",
       "      <th>C</th>\n",
       "      <td>138</td>\n",
       "      <td>108</td>\n",
       "    </tr>\n",
       "    <tr>\n",
       "      <th>D</th>\n",
       "      <td>209</td>\n",
       "      <td>118</td>\n",
       "    </tr>\n",
       "    <tr>\n",
       "      <th>E</th>\n",
       "      <td>160</td>\n",
       "      <td>110</td>\n",
       "    </tr>\n",
       "  </tbody>\n",
       "</table>\n",
       "</div>"
      ],
      "text/plain": [
       "REFERENCE £80,000-£100,000 Drawing on savings or running into debt\n",
       "A                      304                                     108\n",
       "B                      247                                     108\n",
       "C                      138                                     108\n",
       "D                      209                                     118\n",
       "E                      160                                     110"
      ]
     },
     "execution_count": 12,
     "metadata": {},
     "output_type": "execute_result"
    }
   ],
   "source": [
    "### Income vs Debt\n",
    "df_income_vs_debt = df_acorn[(df_acorn['REFERENCE']=='Drawing on savings or running into debt')|\n",
    "                  (df_acorn['REFERENCE']=='£80,000-£100,000')]\n",
    "## Reshaping data\n",
    "df_income_vs_debt = df_income_vs_debt.T.iloc[2:,]\n",
    "df_income_vs_debt.columns = df_income_vs_debt.iloc[0]\n",
    "df_income_vs_debt = df_income_vs_debt.iloc[1:]\n",
    "df_income_vs_debt.head()"
   ]
  },
  {
   "cell_type": "code",
   "execution_count": 13,
   "metadata": {},
   "outputs": [
    {
     "data": {
      "image/png": "[encoded data removed]",
      "text/plain": [
       "<Figure size 576x576 with 1 Axes>"
      ]
     },
     "metadata": {},
     "output_type": "display_data"
    }
   ],
   "source": [
    "fig, ax = plt.subplots(figsize=(8, 8))\n",
    "ytick_pos = list(range(len(df_income_vs_debt)))\n",
    "bar_labels = list(map(chr, range(65, 82)))\n",
    "plt.yticks(ytick_pos, bar_labels, fontsize=14)\n",
    "plt.xticks(fontsize=14)\n",
    "plt.barh(ytick_pos, df_income_vs_debt.iloc[:,0], align='center', height=0.5, label='Income Index')\n",
    "plt.barh(ytick_pos,[-x  for x in df_income_vs_debt.iloc[:,1]], align='center', height=0.5, label='Debt Index')\n",
    "plt.axvline(x=100, color=\"#0E7C7B\", linestyle='dashed', label='Standard Income Index')\n",
    "plt.axvline(x=-100, color=\"#E3B505\", linestyle='dashed', label='Standard Debt Index')\n",
    "plt.xlabel('Debt Index(Yellow) vs Income Index(Teal)', fontsize=16, labelpad=12)\n",
    "plt.ylabel('ACORN groups', fontsize=16, labelpad=12)\n",
    "plt.title('Income index vs Debt index', fontsize=18, y=1.02)\n",
    "plt.ylim([-1, len(bar_labels)+0.1])\n",
    "plt.xlim([-max(df_income_vs_debt.iloc[:,1])-10, max(df_income_vs_debt.iloc[:,0])+10])\n",
    "plt.grid(linestyle='dotted')\n",
    "plt.legend(fontsize='large')\n",
    "plt.show();"
   ]
  },
  {
   "cell_type": "code",
   "execution_count": 14,
   "metadata": {},
   "outputs": [],
   "source": [
    "df_occ_k = df_acorn[df_acorn['CATEGORIES']=='Occupation'][['REFERENCE', 'K']]\n",
    "df_occ_k.columns = ['Occupation', 'Group K']"
   ]
  },
  {
   "cell_type": "code",
   "execution_count": 15,
   "metadata": {},
   "outputs": [
    {
     "data": {
      "image/png": "[encoded data removed]",
      "text/plain": [
       "<Figure size 432x504 with 1 Axes>"
      ]
     },
     "metadata": {},
     "output_type": "display_data"
    }
   ],
   "source": [
    "fig, ax = plt.subplots(figsize=(6,7))\n",
    "ytick_pos = list(range(len(df_occ_k)))\n",
    "plt.yticks(ytick_pos, df_occ_k['Occupation'], fontsize=14)\n",
    "plt.xticks(fontsize=14)\n",
    "plt.barh(ytick_pos, df_occ_k.iloc[:,1], align='center', height=0.5, label='Occupation Index')\n",
    "plt.axvline(x=100, color=\"#E3B505\", linestyle='dashed', label='Standard Income Index')\n",
    "for bar in ax.patches:\n",
    "    bar.set_facecolor('#888888')\n",
    "pos = df_occ_k.index.get_loc(106)\n",
    "ax.patches[pos].set_facecolor(\"#E3B505\")\n",
    "pos1 = df_occ_k.index.get_loc(107)\n",
    "ax.patches[pos1].set_facecolor(\"#E3B505\")\n",
    "plt.xlabel('Occupation Index', fontsize=16, labelpad=12, color='black')\n",
    "plt.ylabel('Occupation', fontsize=16, labelpad=12, color='black')\n",
    "plt.title('Occupation Index for group K', fontsize=18, y=1.02, color='black')\n",
    "plt.grid(linestyle='dotted')\n",
    "plt.show();"
   ]
  },
  {
   "cell_type": "code",
   "execution_count": 16,
   "metadata": {},
   "outputs": [],
   "source": [
    "## Converting column headers into lowercase\n",
    "df_acorn.columns = map(str.lower, df_acorn.columns)"
   ]
  },
  {
   "cell_type": "code",
   "execution_count": 17,
   "metadata": {},
   "outputs": [],
   "source": [
    "df_tech_age = df_acorn[((df_acorn['categories']=='Internet Access: Frequency') & (df_acorn['reference']=='Weekly'))|\n",
    "            (df_acorn['categories']=='Age')]\n",
    "df_tech_age.drop(['main categories', 'categories'], axis=1, inplace=True)\n",
    "df_tech_age = df_tech_age.transpose()\n",
    "df_tech_age.columns = df_tech_age.iloc[0]\n",
    "df_tech_age.drop(df_tech_age.index[:1], inplace=True)\n",
    "df_tech_age.columns = ['0-4', '5-17', '18-24', '25-34', '35-49', '50-64', '65-74', '75+', 'weekly']\n",
    "df_tech_age = df_tech_age.drop(df_tech_age.index[11:])"
   ]
  },
  {
   "cell_type": "code",
   "execution_count": 18,
   "metadata": {
    "scrolled": false
   },
   "outputs": [
    {
     "data": {
      "image/png": "[encoded data removed]",
      "text/plain": [
       "<Figure size 1080x720 with 1 Axes>"
      ]
     },
     "metadata": {},
     "output_type": "display_data"
    }
   ],
   "source": [
    "ax = df_tech_age[['25-34', '50-64', '65-74', '75+']].plot(kind='bar', figsize=(15, 10), legend=True)\n",
    "plt.plot('weekly', data=df_tech_age, marker='.', markerfacecolor=\"#679FE1\", color=\"#679FE1\",\n",
    "         markersize=10, linewidth=4, label='Internet usage')\n",
    "plt.xticks(fontsize=14, rotation=360)\n",
    "plt.yticks(fontsize=14)\n",
    "plt.axhline(linestyle='dashed', y=100, color='#679FE1')\n",
    "ax.set_xlabel(\"Age across Acorn groups\", fontsize=16, labelpad=12)\n",
    "ax.set_ylabel(\"Index\", fontsize=16, labelpad=12)\n",
    "ax.set_title(\"Internet usage vs Age\", fontsize=18, y=1.02)\n",
    "plt.legend(loc='upper right', fontsize='large')\n",
    "plt.show();"
   ]
  },
  {
   "cell_type": "code",
   "execution_count": 4,
   "metadata": {},
   "outputs": [],
   "source": [
    "df_tariff_std = df_final_data[df_final_data['Std or ToU tariff']=='Std']"
   ]
  },
  {
   "cell_type": "code",
   "execution_count": 5,
   "metadata": {
    "scrolled": true
   },
   "outputs": [],
   "source": [
    "df_std_avg_use_per_quarter = df_tariff_std.pivot_table(index='quarter', columns='Acorn_grouped', values='KWh', \n",
    "                                             aggfunc='mean')"
   ]
  },
  {
   "cell_type": "code",
   "execution_count": 6,
   "metadata": {},
   "outputs": [
    {
     "data": {
      "text/html": [
       "<div>\n",
       "<style scoped>\n",
       "    .dataframe tbody tr th:only-of-type {\n",
       "        vertical-align: middle;\n",
       "    }\n",
       "\n",
       "    .dataframe tbody tr th {\n",
       "        vertical-align: top;\n",
       "    }\n",
       "\n",
       "    .dataframe thead th {\n",
       "        text-align: right;\n",
       "    }\n",
       "</style>\n",
       "<table border=\"1\" class=\"dataframe\">\n",
       "  <thead>\n",
       "    <tr style=\"text-align: right;\">\n",
       "      <th>Acorn_grouped</th>\n",
       "      <th>Adversity</th>\n",
       "      <th>Affluent</th>\n",
       "      <th>Comfortable</th>\n",
       "    </tr>\n",
       "    <tr>\n",
       "      <th>quarter</th>\n",
       "      <th></th>\n",
       "      <th></th>\n",
       "      <th></th>\n",
       "    </tr>\n",
       "  </thead>\n",
       "  <tbody>\n",
       "    <tr>\n",
       "      <th>2011 Q4</th>\n",
       "      <td>0.247879</td>\n",
       "      <td>0.322542</td>\n",
       "      <td>0.211974</td>\n",
       "    </tr>\n",
       "    <tr>\n",
       "      <th>2012 Q1</th>\n",
       "      <td>0.231464</td>\n",
       "      <td>0.303722</td>\n",
       "      <td>0.202278</td>\n",
       "    </tr>\n",
       "  </tbody>\n",
       "</table>\n",
       "</div>"
      ],
      "text/plain": [
       "Acorn_grouped  Adversity  Affluent  Comfortable\n",
       "quarter                                        \n",
       "2011 Q4         0.247879  0.322542     0.211974\n",
       "2012 Q1         0.231464  0.303722     0.202278"
      ]
     },
     "execution_count": 6,
     "metadata": {},
     "output_type": "execute_result"
    }
   ],
   "source": [
    "df_std_avg_use_per_quarter.head(2)"
   ]
  },
  {
   "cell_type": "code",
   "execution_count": 7,
   "metadata": {},
   "outputs": [],
   "source": [
    "df_tariff_tou = df_final_data[df_final_data['Std or ToU tariff']=='ToU']"
   ]
  },
  {
   "cell_type": "code",
   "execution_count": 8,
   "metadata": {},
   "outputs": [],
   "source": [
    "df_tou_avg_use_per_quarter = df_tariff_tou.pivot_table(index='quarter', columns='Acorn_grouped', values='KWh',\n",
    "                                             aggfunc='mean')"
   ]
  },
  {
   "cell_type": "code",
   "execution_count": 9,
   "metadata": {},
   "outputs": [
    {
     "data": {
      "text/html": [
       "<div>\n",
       "<style scoped>\n",
       "    .dataframe tbody tr th:only-of-type {\n",
       "        vertical-align: middle;\n",
       "    }\n",
       "\n",
       "    .dataframe tbody tr th {\n",
       "        vertical-align: top;\n",
       "    }\n",
       "\n",
       "    .dataframe thead th {\n",
       "        text-align: right;\n",
       "    }\n",
       "</style>\n",
       "<table border=\"1\" class=\"dataframe\">\n",
       "  <thead>\n",
       "    <tr style=\"text-align: right;\">\n",
       "      <th>Acorn_grouped</th>\n",
       "      <th>Adversity</th>\n",
       "      <th>Affluent</th>\n",
       "      <th>Comfortable</th>\n",
       "    </tr>\n",
       "    <tr>\n",
       "      <th>quarter</th>\n",
       "      <th></th>\n",
       "      <th></th>\n",
       "      <th></th>\n",
       "    </tr>\n",
       "  </thead>\n",
       "  <tbody>\n",
       "    <tr>\n",
       "      <th>2011 Q4</th>\n",
       "      <td>0.194077</td>\n",
       "      <td>0.335652</td>\n",
       "      <td>NaN</td>\n",
       "    </tr>\n",
       "    <tr>\n",
       "      <th>2012 Q1</th>\n",
       "      <td>0.234588</td>\n",
       "      <td>0.239867</td>\n",
       "      <td>0.19658</td>\n",
       "    </tr>\n",
       "  </tbody>\n",
       "</table>\n",
       "</div>"
      ],
      "text/plain": [
       "Acorn_grouped  Adversity  Affluent  Comfortable\n",
       "quarter                                        \n",
       "2011 Q4         0.194077  0.335652          NaN\n",
       "2012 Q1         0.234588  0.239867      0.19658"
      ]
     },
     "execution_count": 9,
     "metadata": {},
     "output_type": "execute_result"
    }
   ],
   "source": [
    "df_tou_avg_use_per_quarter.head(2)"
   ]
  },
  {
   "cell_type": "code",
   "execution_count": 6,
   "metadata": {},
   "outputs": [
    {
     "ename": "NameError",
     "evalue": "name 'go' is not defined",
     "output_type": "error",
     "traceback": [
      "\u001b[1;31m---------------------------------------------------------------------------\u001b[0m",
      "\u001b[1;31mNameError\u001b[0m                                 Traceback (most recent call last)",
      "\u001b[1;32m<ipython-input-6-ba2ab44a7d55>\u001b[0m in \u001b[0;36m<module>\u001b[1;34m\u001b[0m\n\u001b[1;32m----> 1\u001b[1;33m trace1 = go.Scatter(\n\u001b[0m\u001b[0;32m      2\u001b[0m          \u001b[0mx\u001b[0m\u001b[1;33m=\u001b[0m\u001b[0mdf_std_avg_use_per_quarter\u001b[0m\u001b[1;33m.\u001b[0m\u001b[0mindex\u001b[0m\u001b[1;33m,\u001b[0m\u001b[1;33m\u001b[0m\u001b[1;33m\u001b[0m\u001b[0m\n\u001b[0;32m      3\u001b[0m          \u001b[0my\u001b[0m\u001b[1;33m=\u001b[0m\u001b[0mdf_std_avg_use_per_quarter\u001b[0m\u001b[1;33m[\u001b[0m\u001b[1;34m'Affluent'\u001b[0m\u001b[1;33m]\u001b[0m\u001b[1;33m,\u001b[0m\u001b[1;33m\u001b[0m\u001b[1;33m\u001b[0m\u001b[0m\n\u001b[0;32m      4\u001b[0m          \u001b[0mname\u001b[0m\u001b[1;33m=\u001b[0m\u001b[1;34m'Standard tariff'\u001b[0m\u001b[1;33m,\u001b[0m\u001b[1;31m# text displayed as legend label\u001b[0m\u001b[1;33m\u001b[0m\u001b[1;33m\u001b[0m\u001b[0m\n\u001b[0;32m      5\u001b[0m          \u001b[0mlegendgroup\u001b[0m\u001b[1;33m=\u001b[0m\u001b[1;34m'a'\u001b[0m\u001b[1;33m,\u001b[0m\u001b[1;33m\u001b[0m\u001b[1;33m\u001b[0m\u001b[0m\n",
      "\u001b[1;31mNameError\u001b[0m: name 'go' is not defined"
     ]
    }
   ],
   "source": [
    "trace1 = go.Scatter(\n",
    "         x=df_std_avg_use_per_quarter.index,\n",
    "         y=df_std_avg_use_per_quarter['Affluent'],\n",
    "         name='Standard tariff',# text displayed as legend label\n",
    "         legendgroup='a',\n",
    "         mode='lines+markers',\n",
    "         marker=dict(\n",
    "                 size=6,\n",
    "                 color=\"yellowgreen\",\n",
    "                 line=dict(width=2)\n",
    "                 )\n",
    "                 )\n",
    "trace2 = go.Scatter(\n",
    "         x=df_tou_avg_use_per_quarter.index,\n",
    "         y=df_tou_avg_use_per_quarter['Affluent'],\n",
    "         name='Dynamic Time of Use Tariff',# text displayed as legend label\n",
    "         legendgroup='b',\n",
    "         mode='lines+markers',\n",
    "         marker=dict(\n",
    "                 size=6,\n",
    "                 color=\"#C5283D\",\n",
    "                 line=dict(width=2)\n",
    "                 )\n",
    "                 )\n",
    "\n",
    "trace3 = go.Scatter(\n",
    "         x=df_std_avg_use_per_quarter.index,\n",
    "         y=df_std_avg_use_per_quarter['Adversity'],\n",
    "         name='Adversity households with std. tariff',# text displayed as legend label\n",
    "         legendgroup='a',\n",
    "         showlegend=False,\n",
    "         mode='lines+markers',\n",
    "         marker=dict(\n",
    "                 size=6,\n",
    "                 color=\"yellowgreen\",\n",
    "                 line=dict(width=2)\n",
    "                 )\n",
    "                 )\n",
    "trace4 = go.Scatter(\n",
    "         x=df_tou_avg_use_per_quarter.index,\n",
    "         y=df_tou_avg_use_per_quarter['Adversity'],\n",
    "         name='Adversity households with DToU. tariff',# text displayed as legend label\n",
    "         legendgroup='b',\n",
    "         showlegend=False,\n",
    "         mode='lines+markers',\n",
    "         marker=dict(\n",
    "                 size=6,\n",
    "                 color=\"#C5283D\",\n",
    "                 line=dict(width=2)\n",
    "                 )\n",
    "                 )\n",
    "trace5 = go.Scatter(\n",
    "         x=df_std_avg_use_per_quarter.index,\n",
    "         y=df_std_avg_use_per_quarter['Comfortable'],\n",
    "         name='Comfortable households with std. tariff',# text displayed as legend label\n",
    "         legendgroup='a',\n",
    "         showlegend=False,\n",
    "         mode='lines+markers',\n",
    "         marker=dict(\n",
    "                 size=6,\n",
    "                 color=\"yellowgreen\",\n",
    "                 line=dict(width=2)\n",
    "                 )\n",
    "                 )\n",
    "trace6 = go.Scatter(\n",
    "         x=df_tou_avg_use_per_quarter.index,\n",
    "         y=df_tou_avg_use_per_quarter['Comfortable'],\n",
    "         name='Comfortable households with DToU tariff',# text displayed as legend label\n",
    "         legendgroup='b',\n",
    "         showlegend=False,\n",
    "         mode='lines+markers',\n",
    "         marker=dict(\n",
    "                 size=6,\n",
    "                 color=\"#C5283D\",\n",
    "                 line=dict(width=2)\n",
    "                 )\n",
    "                 )\n",
    "\n",
    "fig = tools.make_subplots(rows=3, cols=1, subplot_titles=('Affluent Group', 'Adversity Group', 'Comfortable Group'))\n",
    "fig.append_trace(trace1, 1, 1)\n",
    "fig.append_trace(trace2, 1, 1)\n",
    "fig.append_trace(trace3, 2, 1)\n",
    "fig.append_trace(trace4, 2, 1)\n",
    "fig.append_trace(trace5, 3, 1)\n",
    "fig.append_trace(trace6, 3, 1)\n",
    "fig['layout']['xaxis1'].update(title='Yearly Quarters',\n",
    "                               titlefont=dict(\n",
    "                                         family='Arial',\n",
    "                                         size=18,\n",
    "                                         color='black'),\n",
    "                               tickfont=dict(\n",
    "                                         family='Arial',\n",
    "                                         size=14,\n",
    "                                         color='black'),\n",
    "                               gridwidth=2)\n",
    "fig['layout']['xaxis2'].update(title='Yearly Quarters',\n",
    "                               titlefont=dict(\n",
    "                                         family='Arial',\n",
    "                                         size=18,\n",
    "                                         color='black'),\n",
    "                               tickfont=dict(\n",
    "                                         family='Arial',\n",
    "                                         size=14,\n",
    "                                         color='black'),\n",
    "                               gridwidth=2)\n",
    "fig['layout']['xaxis3'].update(title='Yearly Quarters',\n",
    "                               titlefont=dict(\n",
    "                                         family='Arial',\n",
    "                                         size=18,\n",
    "                                         color='black'),\n",
    "                               tickfont=dict(\n",
    "                                         family='Arial',\n",
    "                                         size=14,\n",
    "                                         color='black'),\n",
    "                               gridwidth=2)\n",
    "\n",
    "fig['layout']['yaxis1'].update(title='Avg. Enery Consumption(KWh)',\n",
    "                               titlefont=dict(\n",
    "                                         family='Arial',\n",
    "                                         size=18,\n",
    "                                         color='black'),\n",
    "                               tickfont=dict(\n",
    "                                         family='Arial',\n",
    "                                         size=14,\n",
    "                                         color='black'),\n",
    "                               gridwidth=2)\n",
    "fig['layout']['yaxis2'].update(title='Avg. Enery Consumption(KWh)',\n",
    "                               titlefont=dict(\n",
    "                                         family='Arial',\n",
    "                                         size=18,\n",
    "                                         color='black'),\n",
    "                               tickfont=dict(\n",
    "                                         family='Arial',\n",
    "                                         size=14,\n",
    "                                         color='black'),\n",
    "                               gridwidth=2)\n",
    "fig['layout']['yaxis3'].update(title='Avg. Enery Consumption(KWh)',\n",
    "                               titlefont=dict(\n",
    "                                         family='Arial',\n",
    "                                         size=18,\n",
    "                                         color='black'),\n",
    "                               tickfont=dict(\n",
    "                                         family='Arial',\n",
    "                                         size=14,\n",
    "                                         color='black'),\n",
    "                               gridwidth=2)\n",
    "\n",
    "fig['layout'].update(height=1000, width=1000, title='Average energy consumption by different tariff plans',\n",
    "                     font=dict(family='Arial', size=20, color='black'))\n",
    "iplot(fig);"
   ]
  },
  {
   "cell_type": "code",
   "execution_count": 15,
   "metadata": {},
   "outputs": [],
   "source": [
    "df_tariffs['TariffDateTime'] = pd.to_datetime(df_tariffs['TariffDateTime'])"
   ]
  },
  {
   "cell_type": "code",
   "execution_count": 16,
   "metadata": {},
   "outputs": [],
   "source": [
    "df_final_data_2013 = df_final_data[df_final_data.year==2013]"
   ]
  },
  {
   "cell_type": "code",
   "execution_count": 17,
   "metadata": {},
   "outputs": [],
   "source": [
    "df_final_data_2013['DateTime'] = pd.to_datetime(df_final_data_2013['DateTime'])"
   ]
  },
  {
   "cell_type": "code",
   "execution_count": 18,
   "metadata": {},
   "outputs": [],
   "source": [
    "df_final_data_2013_tariffs = df_final_data_2013.merge(df_tariffs, left_on='DateTime', right_on='TariffDateTime', how='left')"
   ]
  },
  {
   "cell_type": "code",
   "execution_count": 19,
   "metadata": {},
   "outputs": [],
   "source": [
    "df_final_data_2013_tariffs.drop('TariffDateTime', axis=1, inplace=True)"
   ]
  },
  {
   "cell_type": "code",
   "execution_count": 20,
   "metadata": {},
   "outputs": [
    {
     "data": {
      "text/html": [
       "<div>\n",
       "<style scoped>\n",
       "    .dataframe tbody tr th:only-of-type {\n",
       "        vertical-align: middle;\n",
       "    }\n",
       "\n",
       "    .dataframe tbody tr th {\n",
       "        vertical-align: top;\n",
       "    }\n",
       "\n",
       "    .dataframe thead th {\n",
       "        text-align: right;\n",
       "    }\n",
       "</style>\n",
       "<table border=\"1\" class=\"dataframe\">\n",
       "  <thead>\n",
       "    <tr style=\"text-align: right;\">\n",
       "      <th></th>\n",
       "      <th>LCLid</th>\n",
       "      <th>DateTime</th>\n",
       "      <th>KWh</th>\n",
       "      <th>year</th>\n",
       "      <th>month</th>\n",
       "      <th>day</th>\n",
       "      <th>hour</th>\n",
       "      <th>date</th>\n",
       "      <th>time</th>\n",
       "      <th>Std or ToU tariff</th>\n",
       "      <th>Acorn</th>\n",
       "      <th>Acorn_grouped</th>\n",
       "      <th>quarter</th>\n",
       "      <th>Tariff</th>\n",
       "    </tr>\n",
       "  </thead>\n",
       "  <tbody>\n",
       "    <tr>\n",
       "      <th>0</th>\n",
       "      <td>MAC002604</td>\n",
       "      <td>2013-01-01 00:00:00</td>\n",
       "      <td>0.864</td>\n",
       "      <td>2013</td>\n",
       "      <td>1</td>\n",
       "      <td>1</td>\n",
       "      <td>0</td>\n",
       "      <td>2013-01-01</td>\n",
       "      <td>12:00 AM</td>\n",
       "      <td>ToU</td>\n",
       "      <td>C</td>\n",
       "      <td>Affluent</td>\n",
       "      <td>2013 Q1</td>\n",
       "      <td>Normal</td>\n",
       "    </tr>\n",
       "    <tr>\n",
       "      <th>1</th>\n",
       "      <td>MAC002604</td>\n",
       "      <td>2013-01-01 00:30:00</td>\n",
       "      <td>0.803</td>\n",
       "      <td>2013</td>\n",
       "      <td>1</td>\n",
       "      <td>1</td>\n",
       "      <td>0</td>\n",
       "      <td>2013-01-01</td>\n",
       "      <td>12:30 AM</td>\n",
       "      <td>ToU</td>\n",
       "      <td>C</td>\n",
       "      <td>Affluent</td>\n",
       "      <td>2013 Q1</td>\n",
       "      <td>Normal</td>\n",
       "    </tr>\n",
       "  </tbody>\n",
       "</table>\n",
       "</div>"
      ],
      "text/plain": [
       "       LCLid            DateTime    KWh  year  month  day  hour        date  \\\n",
       "0  MAC002604 2013-01-01 00:00:00  0.864  2013      1    1     0  2013-01-01   \n",
       "1  MAC002604 2013-01-01 00:30:00  0.803  2013      1    1     0  2013-01-01   \n",
       "\n",
       "       time Std or ToU tariff Acorn Acorn_grouped  quarter  Tariff  \n",
       "0  12:00 AM               ToU     C      Affluent  2013 Q1  Normal  \n",
       "1  12:30 AM               ToU     C      Affluent  2013 Q1  Normal  "
      ]
     },
     "execution_count": 20,
     "metadata": {},
     "output_type": "execute_result"
    }
   ],
   "source": [
    "df_final_data_2013_tariffs.head(2)\n"
   ]
  },
  {
   "cell_type": "code",
   "execution_count": 21,
   "metadata": {},
   "outputs": [],
   "source": [
    "df_final_data_dtou = df_final_data_2013_tariffs[df_final_data_2013_tariffs['Std or ToU tariff']=='ToU']"
   ]
  },
  {
   "cell_type": "code",
   "execution_count": 22,
   "metadata": {},
   "outputs": [],
   "source": [
    "df_dtou_halfhourly_energy_usage = df_final_data_dtou.pivot_table(index='time', columns='Tariff', values='KWh', aggfunc='mean').sort_index().reindex(\n",
    "    index = ['12:00 AM','12:30 AM', '01:00 AM', '01:30 AM', '02:00 AM', '02:30 AM',\n",
    "       '03:00 AM', '03:30 AM', '04:00 AM', '04:30 AM', '05:00 AM',\n",
    "       '05:30 AM', '06:00 AM', '06:30 AM', '07:00 AM', '07:30 AM',\n",
    "       '08:00 AM', '08:30 AM', '09:00 AM', '09:30 AM', '10:00 AM',\n",
    "       '10:30 AM', '11:00 AM', '11:30 AM', '12:00 PM', '12:30 PM', \n",
    "       '01:00 PM', '01:30 PM', '02:00 PM', '02:30 PM', '03:00 PM',\n",
    "       '03:30 PM', '04:00 PM', '04:30 PM', '05:00 PM', '05:30 PM', \n",
    "       '06:00 PM', '06:30 PM', '07:00 PM', '07:30 PM', '08:00 PM', \n",
    "       '08:30 PM', '09:00 PM', '09:30 PM', '10:00 PM', '10:30 PM', \n",
    "       '11:00 PM', '11:30 PM' ])"
   ]
  },
  {
   "cell_type": "code",
   "execution_count": 27,
   "metadata": {},
   "outputs": [
    {
     "data": {
      "application/vnd.plotly.v1+json": {
       "data": [
        {
         "marker": {
          "color": "#E3B505",
          "line": {
           "width": 2
          },
          "size": 8
         },
         "mode": "lines+markers",
         "name": "High Tariff",
         "type": "scatter",
         "x": [
          "12:00 AM",
          "12:30 AM",
          "01:00 AM",
          "01:30 AM",
          "02:00 AM",
          "02:30 AM",
          "03:00 AM",
          "03:30 AM",
          "04:00 AM",
          "04:30 AM",
          "05:00 AM",
          "05:30 AM",
          "06:00 AM",
          "06:30 AM",
          "07:00 AM",
          "07:30 AM",
          "08:00 AM",
          "08:30 AM",
          "09:00 AM",
          "09:30 AM",
          "10:00 AM",
          "10:30 AM",
          "11:00 AM",
          "11:30 AM",
          "12:00 PM",
          "12:30 PM",
          "01:00 PM",
          "01:30 PM",
          "02:00 PM",
          "02:30 PM",
          "03:00 PM",
          "03:30 PM",
          "04:00 PM",
          "04:30 PM",
          "05:00 PM",
          "05:30 PM",
          "06:00 PM",
          "06:30 PM",
          "07:00 PM",
          "07:30 PM",
          "08:00 PM",
          "08:30 PM",
          "09:00 PM",
          "09:30 PM",
          "10:00 PM",
          "10:30 PM",
          "11:00 PM",
          "11:30 PM"
         ],
         "y": [
          0.13790111650717685,
          0.12756903423782895,
          0.10873982450119712,
          0.09800638467677569,
          0.09095903622489956,
          0.08752690763052211,
          0.08577831325301201,
          0.08410361445783139,
          0.08865969428801276,
          0.0940891567068272,
          0.10452585497215593,
          0.11451392187748625,
          0.11632086003184709,
          0.13552786632165595,
          0.16019038356075377,
          0.17050292404158565,
          0.17586740725016337,
          0.18123272496740556,
          0.17767209928292044,
          0.17130964797913933,
          0.18109469160688652,
          0.18732855086083197,
          0.17601812196595287,
          0.1745183965952774,
          0.16978802833607887,
          0.17638056018671006,
          0.17005436595277346,
          0.17265329675824168,
          0.16043249701314224,
          0.16419377978468905,
          0.16580514052600087,
          0.17268996409796883,
          0.18389904420549574,
          0.2092634410991635,
          0.29041710772813856,
          0.2951564685157738,
          0.30866927787423226,
          0.3097861528054191,
          0.3060626719246242,
          0.30419860254075803,
          0.29776293466921244,
          0.2796119593299408,
          0.26814312974978805,
          0.2589255725402893,
          0.24107760812128912,
          0.22532774709376274,
          0.18917942591706535,
          0.16111562990430603
         ]
        },
        {
         "marker": {
          "color": "#C5283D",
          "line": {
           "width": 2
          },
          "size": 8
         },
         "mode": "lines+markers",
         "name": "Normal Tariff",
         "type": "scatter",
         "x": [
          "12:00 AM",
          "12:30 AM",
          "01:00 AM",
          "01:30 AM",
          "02:00 AM",
          "02:30 AM",
          "03:00 AM",
          "03:30 AM",
          "04:00 AM",
          "04:30 AM",
          "05:00 AM",
          "05:30 AM",
          "06:00 AM",
          "06:30 AM",
          "07:00 AM",
          "07:30 AM",
          "08:00 AM",
          "08:30 AM",
          "09:00 AM",
          "09:30 AM",
          "10:00 AM",
          "10:30 AM",
          "11:00 AM",
          "11:30 AM",
          "12:00 PM",
          "12:30 PM",
          "01:00 PM",
          "01:30 PM",
          "02:00 PM",
          "02:30 PM",
          "03:00 PM",
          "03:30 PM",
          "04:00 PM",
          "04:30 PM",
          "05:00 PM",
          "05:30 PM",
          "06:00 PM",
          "06:30 PM",
          "07:00 PM",
          "07:30 PM",
          "08:00 PM",
          "08:30 PM",
          "09:00 PM",
          "09:30 PM",
          "10:00 PM",
          "10:30 PM",
          "11:00 PM",
          "11:30 PM"
         ],
         "y": [
          0.14019863945805042,
          0.12390766647241687,
          0.11144752118202055,
          0.1022233232007633,
          0.09598453514285644,
          0.0915700324323703,
          0.08847404819165143,
          0.0871957325230716,
          0.08951614511564654,
          0.09205517007483016,
          0.10279524577086255,
          0.11157172020504659,
          0.12363437591916676,
          0.1405063167479432,
          0.1628986798766125,
          0.17567763741692602,
          0.1849712179587228,
          0.19362678035698283,
          0.19218972673772883,
          0.1930950803919363,
          0.1917407289165115,
          0.19068726893102952,
          0.18873176266966035,
          0.1892783455447163,
          0.19168892484855618,
          0.19474061653523309,
          0.19444034950060315,
          0.1944488786450869,
          0.1950743866487849,
          0.19544215785372396,
          0.1997093700744638,
          0.20751403470289428,
          0.22090518914993917,
          0.2425442037162096,
          0.25769416447794535,
          0.2852123334766939,
          0.30306048411366265,
          0.30515529951895387,
          0.2976910608097509,
          0.29406186994590133,
          0.28441944882779957,
          0.2750409673301921,
          0.2622556521059688,
          0.2521403439202007,
          0.2304810328370998,
          0.210114255324366,
          0.18363839822679748,
          0.16049858277590137
         ]
        },
        {
         "marker": {
          "color": "yellowgreen",
          "line": {
           "width": 2
          },
          "size": 8
         },
         "mode": "lines+markers",
         "name": "Low Tariff",
         "type": "scatter",
         "x": [
          "12:00 AM",
          "12:30 AM",
          "01:00 AM",
          "01:30 AM",
          "02:00 AM",
          "02:30 AM",
          "03:00 AM",
          "03:30 AM",
          "04:00 AM",
          "04:30 AM",
          "05:00 AM",
          "05:30 AM",
          "06:00 AM",
          "06:30 AM",
          "07:00 AM",
          "07:30 AM",
          "08:00 AM",
          "08:30 AM",
          "09:00 AM",
          "09:30 AM",
          "10:00 AM",
          "10:30 AM",
          "11:00 AM",
          "11:30 AM",
          "12:00 PM",
          "12:30 PM",
          "01:00 PM",
          "01:30 PM",
          "02:00 PM",
          "02:30 PM",
          "03:00 PM",
          "03:30 PM",
          "04:00 PM",
          "04:30 PM",
          "05:00 PM",
          "05:30 PM",
          "06:00 PM",
          "06:30 PM",
          "07:00 PM",
          "07:30 PM",
          "08:00 PM",
          "08:30 PM",
          "09:00 PM",
          "09:30 PM",
          "10:00 PM",
          "10:30 PM",
          "11:00 PM",
          "11:30 PM"
         ],
         "y": [
          0.16731768626871107,
          0.14780691062453816,
          0.12736714709903812,
          0.11202975420439806,
          0.10374091166266833,
          0.09642830782432203,
          0.0933066986528878,
          0.09210444731500252,
          0.09304244323675954,
          0.09318619669680732,
          0.10581897028972101,
          0.11391107007380073,
          0.1271419342561829,
          0.14856420667896653,
          0.1764992215064232,
          0.19537037759828704,
          0.21108880229795554,
          0.2339443146612151,
          0.22853300876338822,
          0.23618266782862715,
          0.23603888469271558,
          0.23250331751658726,
          0.22741287140847527,
          0.23932249578207293,
          0.23537258339191516,
          0.2348644990685412,
          0.23701898054481546,
          0.23646467483304057,
          0.2386630694929769,
          0.24906338864142546,
          0.24865072827763512,
          0.25258204862966727,
          0.2668139774409046,
          0.2853614250942118,
          0.2783017580193762,
          0.3231808395407251,
          0.33240078959454555,
          0.3330936493003228,
          0.3295457480803726,
          0.32231539282382476,
          0.3034982078494619,
          0.2906455196415768,
          0.2776452883195975,
          0.2627090647438191,
          0.2434844142959506,
          0.22451594421354362,
          0.21047292554056513,
          0.19124320827943128
         ]
        }
       ],
       "layout": {
        "autosize": false,
        "font": {
         "color": "black",
         "family": "Arial",
         "size": 20
        },
        "height": 600,
        "title": "Half-hourly energy consumption by tariff rates",
        "width": 1000,
        "xaxis": {
         "tickangle": -45,
         "tickfont": {
          "color": "black",
          "family": "Arial",
          "size": 14
         },
         "ticktext": [
          "12AM",
          "1AM",
          "2AM",
          "3AM",
          "4AM",
          "5AM",
          "6AM",
          "7AM",
          "8AM",
          "9AM",
          "10AM",
          "11AM",
          "12PM",
          "1PM",
          "2PM",
          "3PM",
          "4PM",
          "5PM",
          "6PM",
          "7PM",
          "8PM",
          "9PM",
          "10PM",
          "11PM"
         ],
         "tickvals": [
          0,
          2,
          4,
          6,
          8,
          10,
          12,
          14,
          16,
          18,
          20,
          22,
          24,
          26,
          28,
          30,
          32,
          34,
          36,
          38,
          40,
          42,
          44,
          46
         ],
         "title": "Time(Hour)",
         "titlefont": {
          "color": "black",
          "family": "Arial",
          "size": 18
         }
        },
        "yaxis": {
         "tickfont": {
          "color": "black",
          "family": "Arial",
          "size": 14
         },
         "title": "Avg. Energy Consumption per half hour(KWh/hh)",
         "titlefont": {
          "color": "black",
          "family": "Arial",
          "size": 18
         }
        }
       }
      },
      "text/html": [
       "<div id=\"93122e13-8bb9-4022-b8d0-2744abfce2a0\" style=\"height: 600px; width: 1000px;\" class=\"plotly-graph-div\"></div><script type=\"text/javascript\">require([\"plotly\"], function(Plotly) { window.PLOTLYENV=window.PLOTLYENV || {};window.PLOTLYENV.BASE_URL=\"https://plot.ly\";Plotly.newPlot(\"93122e13-8bb9-4022-b8d0-2744abfce2a0\", [{\"type\": \"scatter\", \"x\": [\"12:00 AM\", \"12:30 AM\", \"01:00 AM\", \"01:30 AM\", \"02:00 AM\", \"02:30 AM\", \"03:00 AM\", \"03:30 AM\", \"04:00 AM\", \"04:30 AM\", \"05:00 AM\", \"05:30 AM\", \"06:00 AM\", \"06:30 AM\", \"07:00 AM\", \"07:30 AM\", \"08:00 AM\", \"08:30 AM\", \"09:00 AM\", \"09:30 AM\", \"10:00 AM\", \"10:30 AM\", \"11:00 AM\", \"11:30 AM\", \"12:00 PM\", \"12:30 PM\", \"01:00 PM\", \"01:30 PM\", \"02:00 PM\", \"02:30 PM\", \"03:00 PM\", \"03:30 PM\", \"04:00 PM\", \"04:30 PM\", \"05:00 PM\", \"05:30 PM\", \"06:00 PM\", \"06:30 PM\", \"07:00 PM\", \"07:30 PM\", \"08:00 PM\", \"08:30 PM\", \"09:00 PM\", \"09:30 PM\", \"10:00 PM\", \"10:30 PM\", \"11:00 PM\", \"11:30 PM\"], \"y\": [0.13790111650717685, 0.12756903423782895, 0.10873982450119712, 0.09800638467677569, 0.09095903622489956, 0.08752690763052211, 0.08577831325301201, 0.08410361445783139, 0.08865969428801276, 0.0940891567068272, 0.10452585497215593, 0.11451392187748625, 0.11632086003184709, 0.13552786632165595, 0.16019038356075377, 0.17050292404158565, 0.17586740725016337, 0.18123272496740556, 0.17767209928292044, 0.17130964797913933, 0.18109469160688652, 0.18732855086083197, 0.17601812196595287, 0.1745183965952774, 0.16978802833607887, 0.17638056018671006, 0.17005436595277346, 0.17265329675824168, 0.16043249701314224, 0.16419377978468905, 0.16580514052600087, 0.17268996409796883, 0.18389904420549574, 0.2092634410991635, 0.29041710772813856, 0.2951564685157738, 0.30866927787423226, 0.3097861528054191, 0.3060626719246242, 0.30419860254075803, 0.29776293466921244, 0.2796119593299408, 0.26814312974978805, 0.2589255725402893, 0.24107760812128912, 0.22532774709376274, 0.18917942591706535, 0.16111562990430603], \"name\": \"High Tariff\", \"mode\": \"lines+markers\", \"marker\": {\"size\": 8, \"color\": \"#E3B505\", \"line\": {\"width\": 2}}}, {\"type\": \"scatter\", \"x\": [\"12:00 AM\", \"12:30 AM\", \"01:00 AM\", \"01:30 AM\", \"02:00 AM\", \"02:30 AM\", \"03:00 AM\", \"03:30 AM\", \"04:00 AM\", \"04:30 AM\", \"05:00 AM\", \"05:30 AM\", \"06:00 AM\", \"06:30 AM\", \"07:00 AM\", \"07:30 AM\", \"08:00 AM\", \"08:30 AM\", \"09:00 AM\", \"09:30 AM\", \"10:00 AM\", \"10:30 AM\", \"11:00 AM\", \"11:30 AM\", \"12:00 PM\", \"12:30 PM\", \"01:00 PM\", \"01:30 PM\", \"02:00 PM\", \"02:30 PM\", \"03:00 PM\", \"03:30 PM\", \"04:00 PM\", \"04:30 PM\", \"05:00 PM\", \"05:30 PM\", \"06:00 PM\", \"06:30 PM\", \"07:00 PM\", \"07:30 PM\", \"08:00 PM\", \"08:30 PM\", \"09:00 PM\", \"09:30 PM\", \"10:00 PM\", \"10:30 PM\", \"11:00 PM\", \"11:30 PM\"], \"y\": [0.14019863945805042, 0.12390766647241687, 0.11144752118202055, 0.1022233232007633, 0.09598453514285644, 0.0915700324323703, 0.08847404819165143, 0.0871957325230716, 0.08951614511564654, 0.09205517007483016, 0.10279524577086255, 0.11157172020504659, 0.12363437591916676, 0.1405063167479432, 0.1628986798766125, 0.17567763741692602, 0.1849712179587228, 0.19362678035698283, 0.19218972673772883, 0.1930950803919363, 0.1917407289165115, 0.19068726893102952, 0.18873176266966035, 0.1892783455447163, 0.19168892484855618, 0.19474061653523309, 0.19444034950060315, 0.1944488786450869, 0.1950743866487849, 0.19544215785372396, 0.1997093700744638, 0.20751403470289428, 0.22090518914993917, 0.2425442037162096, 0.25769416447794535, 0.2852123334766939, 0.30306048411366265, 0.30515529951895387, 0.2976910608097509, 0.29406186994590133, 0.28441944882779957, 0.2750409673301921, 0.2622556521059688, 0.2521403439202007, 0.2304810328370998, 0.210114255324366, 0.18363839822679748, 0.16049858277590137], \"name\": \"Normal Tariff\", \"mode\": \"lines+markers\", \"marker\": {\"size\": 8, \"color\": \"#C5283D\", \"line\": {\"width\": 2}}}, {\"type\": \"scatter\", \"x\": [\"12:00 AM\", \"12:30 AM\", \"01:00 AM\", \"01:30 AM\", \"02:00 AM\", \"02:30 AM\", \"03:00 AM\", \"03:30 AM\", \"04:00 AM\", \"04:30 AM\", \"05:00 AM\", \"05:30 AM\", \"06:00 AM\", \"06:30 AM\", \"07:00 AM\", \"07:30 AM\", \"08:00 AM\", \"08:30 AM\", \"09:00 AM\", \"09:30 AM\", \"10:00 AM\", \"10:30 AM\", \"11:00 AM\", \"11:30 AM\", \"12:00 PM\", \"12:30 PM\", \"01:00 PM\", \"01:30 PM\", \"02:00 PM\", \"02:30 PM\", \"03:00 PM\", \"03:30 PM\", \"04:00 PM\", \"04:30 PM\", \"05:00 PM\", \"05:30 PM\", \"06:00 PM\", \"06:30 PM\", \"07:00 PM\", \"07:30 PM\", \"08:00 PM\", \"08:30 PM\", \"09:00 PM\", \"09:30 PM\", \"10:00 PM\", \"10:30 PM\", \"11:00 PM\", \"11:30 PM\"], \"y\": [0.16731768626871107, 0.14780691062453816, 0.12736714709903812, 0.11202975420439806, 0.10374091166266833, 0.09642830782432203, 0.0933066986528878, 0.09210444731500252, 0.09304244323675954, 0.09318619669680732, 0.10581897028972101, 0.11391107007380073, 0.1271419342561829, 0.14856420667896653, 0.1764992215064232, 0.19537037759828704, 0.21108880229795554, 0.2339443146612151, 0.22853300876338822, 0.23618266782862715, 0.23603888469271558, 0.23250331751658726, 0.22741287140847527, 0.23932249578207293, 0.23537258339191516, 0.2348644990685412, 0.23701898054481546, 0.23646467483304057, 0.2386630694929769, 0.24906338864142546, 0.24865072827763512, 0.25258204862966727, 0.2668139774409046, 0.2853614250942118, 0.2783017580193762, 0.3231808395407251, 0.33240078959454555, 0.3330936493003228, 0.3295457480803726, 0.32231539282382476, 0.3034982078494619, 0.2906455196415768, 0.2776452883195975, 0.2627090647438191, 0.2434844142959506, 0.22451594421354362, 0.21047292554056513, 0.19124320827943128], \"name\": \"Low Tariff\", \"mode\": \"lines+markers\", \"marker\": {\"size\": 8, \"color\": \"yellowgreen\", \"line\": {\"width\": 2}}}], {\"autosize\": false, \"width\": 1000, \"height\": 600, \"title\": \"Half-hourly energy consumption by tariff rates\", \"font\": {\"family\": \"Arial\", \"size\": 20, \"color\": \"black\"}, \"xaxis\": {\"title\": \"Time(Hour)\", \"titlefont\": {\"family\": \"Arial\", \"size\": 18, \"color\": \"black\"}, \"tickfont\": {\"family\": \"Arial\", \"size\": 14, \"color\": \"black\"}, \"tickvals\": [0, 2, 4, 6, 8, 10, 12, 14, 16, 18, 20, 22, 24, 26, 28, 30, 32, 34, 36, 38, 40, 42, 44, 46], \"ticktext\": [\"12AM\", \"1AM\", \"2AM\", \"3AM\", \"4AM\", \"5AM\", \"6AM\", \"7AM\", \"8AM\", \"9AM\", \"10AM\", \"11AM\", \"12PM\", \"1PM\", \"2PM\", \"3PM\", \"4PM\", \"5PM\", \"6PM\", \"7PM\", \"8PM\", \"9PM\", \"10PM\", \"11PM\"], \"tickangle\": -45}, \"yaxis\": {\"title\": \"Avg. Energy Consumption per half hour(KWh/hh)\", \"titlefont\": {\"family\": \"Arial\", \"size\": 18, \"color\": \"black\"}, \"tickfont\": {\"family\": \"Arial\", \"size\": 14, \"color\": \"black\"}}}, {\"showLink\": true, \"linkText\": \"Export to plot.ly\"})});</script>"
      ],
      "text/vnd.plotly.v1+html": [
       "<div id=\"93122e13-8bb9-4022-b8d0-2744abfce2a0\" style=\"height: 600px; width: 1000px;\" class=\"plotly-graph-div\"></div><script type=\"text/javascript\">require([\"plotly\"], function(Plotly) { window.PLOTLYENV=window.PLOTLYENV || {};window.PLOTLYENV.BASE_URL=\"https://plot.ly\";Plotly.newPlot(\"93122e13-8bb9-4022-b8d0-2744abfce2a0\", [{\"type\": \"scatter\", \"x\": [\"12:00 AM\", \"12:30 AM\", \"01:00 AM\", \"01:30 AM\", \"02:00 AM\", \"02:30 AM\", \"03:00 AM\", \"03:30 AM\", \"04:00 AM\", \"04:30 AM\", \"05:00 AM\", \"05:30 AM\", \"06:00 AM\", \"06:30 AM\", \"07:00 AM\", \"07:30 AM\", \"08:00 AM\", \"08:30 AM\", \"09:00 AM\", \"09:30 AM\", \"10:00 AM\", \"10:30 AM\", \"11:00 AM\", \"11:30 AM\", \"12:00 PM\", \"12:30 PM\", \"01:00 PM\", \"01:30 PM\", \"02:00 PM\", \"02:30 PM\", \"03:00 PM\", \"03:30 PM\", \"04:00 PM\", \"04:30 PM\", \"05:00 PM\", \"05:30 PM\", \"06:00 PM\", \"06:30 PM\", \"07:00 PM\", \"07:30 PM\", \"08:00 PM\", \"08:30 PM\", \"09:00 PM\", \"09:30 PM\", \"10:00 PM\", \"10:30 PM\", \"11:00 PM\", \"11:30 PM\"], \"y\": [0.13790111650717685, 0.12756903423782895, 0.10873982450119712, 0.09800638467677569, 0.09095903622489956, 0.08752690763052211, 0.08577831325301201, 0.08410361445783139, 0.08865969428801276, 0.0940891567068272, 0.10452585497215593, 0.11451392187748625, 0.11632086003184709, 0.13552786632165595, 0.16019038356075377, 0.17050292404158565, 0.17586740725016337, 0.18123272496740556, 0.17767209928292044, 0.17130964797913933, 0.18109469160688652, 0.18732855086083197, 0.17601812196595287, 0.1745183965952774, 0.16978802833607887, 0.17638056018671006, 0.17005436595277346, 0.17265329675824168, 0.16043249701314224, 0.16419377978468905, 0.16580514052600087, 0.17268996409796883, 0.18389904420549574, 0.2092634410991635, 0.29041710772813856, 0.2951564685157738, 0.30866927787423226, 0.3097861528054191, 0.3060626719246242, 0.30419860254075803, 0.29776293466921244, 0.2796119593299408, 0.26814312974978805, 0.2589255725402893, 0.24107760812128912, 0.22532774709376274, 0.18917942591706535, 0.16111562990430603], \"name\": \"High Tariff\", \"mode\": \"lines+markers\", \"marker\": {\"size\": 8, \"color\": \"#E3B505\", \"line\": {\"width\": 2}}}, {\"type\": \"scatter\", \"x\": [\"12:00 AM\", \"12:30 AM\", \"01:00 AM\", \"01:30 AM\", \"02:00 AM\", \"02:30 AM\", \"03:00 AM\", \"03:30 AM\", \"04:00 AM\", \"04:30 AM\", \"05:00 AM\", \"05:30 AM\", \"06:00 AM\", \"06:30 AM\", \"07:00 AM\", \"07:30 AM\", \"08:00 AM\", \"08:30 AM\", \"09:00 AM\", \"09:30 AM\", \"10:00 AM\", \"10:30 AM\", \"11:00 AM\", \"11:30 AM\", \"12:00 PM\", \"12:30 PM\", \"01:00 PM\", \"01:30 PM\", \"02:00 PM\", \"02:30 PM\", \"03:00 PM\", \"03:30 PM\", \"04:00 PM\", \"04:30 PM\", \"05:00 PM\", \"05:30 PM\", \"06:00 PM\", \"06:30 PM\", \"07:00 PM\", \"07:30 PM\", \"08:00 PM\", \"08:30 PM\", \"09:00 PM\", \"09:30 PM\", \"10:00 PM\", \"10:30 PM\", \"11:00 PM\", \"11:30 PM\"], \"y\": [0.14019863945805042, 0.12390766647241687, 0.11144752118202055, 0.1022233232007633, 0.09598453514285644, 0.0915700324323703, 0.08847404819165143, 0.0871957325230716, 0.08951614511564654, 0.09205517007483016, 0.10279524577086255, 0.11157172020504659, 0.12363437591916676, 0.1405063167479432, 0.1628986798766125, 0.17567763741692602, 0.1849712179587228, 0.19362678035698283, 0.19218972673772883, 0.1930950803919363, 0.1917407289165115, 0.19068726893102952, 0.18873176266966035, 0.1892783455447163, 0.19168892484855618, 0.19474061653523309, 0.19444034950060315, 0.1944488786450869, 0.1950743866487849, 0.19544215785372396, 0.1997093700744638, 0.20751403470289428, 0.22090518914993917, 0.2425442037162096, 0.25769416447794535, 0.2852123334766939, 0.30306048411366265, 0.30515529951895387, 0.2976910608097509, 0.29406186994590133, 0.28441944882779957, 0.2750409673301921, 0.2622556521059688, 0.2521403439202007, 0.2304810328370998, 0.210114255324366, 0.18363839822679748, 0.16049858277590137], \"name\": \"Normal Tariff\", \"mode\": \"lines+markers\", \"marker\": {\"size\": 8, \"color\": \"#C5283D\", \"line\": {\"width\": 2}}}, {\"type\": \"scatter\", \"x\": [\"12:00 AM\", \"12:30 AM\", \"01:00 AM\", \"01:30 AM\", \"02:00 AM\", \"02:30 AM\", \"03:00 AM\", \"03:30 AM\", \"04:00 AM\", \"04:30 AM\", \"05:00 AM\", \"05:30 AM\", \"06:00 AM\", \"06:30 AM\", \"07:00 AM\", \"07:30 AM\", \"08:00 AM\", \"08:30 AM\", \"09:00 AM\", \"09:30 AM\", \"10:00 AM\", \"10:30 AM\", \"11:00 AM\", \"11:30 AM\", \"12:00 PM\", \"12:30 PM\", \"01:00 PM\", \"01:30 PM\", \"02:00 PM\", \"02:30 PM\", \"03:00 PM\", \"03:30 PM\", \"04:00 PM\", \"04:30 PM\", \"05:00 PM\", \"05:30 PM\", \"06:00 PM\", \"06:30 PM\", \"07:00 PM\", \"07:30 PM\", \"08:00 PM\", \"08:30 PM\", \"09:00 PM\", \"09:30 PM\", \"10:00 PM\", \"10:30 PM\", \"11:00 PM\", \"11:30 PM\"], \"y\": [0.16731768626871107, 0.14780691062453816, 0.12736714709903812, 0.11202975420439806, 0.10374091166266833, 0.09642830782432203, 0.0933066986528878, 0.09210444731500252, 0.09304244323675954, 0.09318619669680732, 0.10581897028972101, 0.11391107007380073, 0.1271419342561829, 0.14856420667896653, 0.1764992215064232, 0.19537037759828704, 0.21108880229795554, 0.2339443146612151, 0.22853300876338822, 0.23618266782862715, 0.23603888469271558, 0.23250331751658726, 0.22741287140847527, 0.23932249578207293, 0.23537258339191516, 0.2348644990685412, 0.23701898054481546, 0.23646467483304057, 0.2386630694929769, 0.24906338864142546, 0.24865072827763512, 0.25258204862966727, 0.2668139774409046, 0.2853614250942118, 0.2783017580193762, 0.3231808395407251, 0.33240078959454555, 0.3330936493003228, 0.3295457480803726, 0.32231539282382476, 0.3034982078494619, 0.2906455196415768, 0.2776452883195975, 0.2627090647438191, 0.2434844142959506, 0.22451594421354362, 0.21047292554056513, 0.19124320827943128], \"name\": \"Low Tariff\", \"mode\": \"lines+markers\", \"marker\": {\"size\": 8, \"color\": \"yellowgreen\", \"line\": {\"width\": 2}}}], {\"autosize\": false, \"width\": 1000, \"height\": 600, \"title\": \"Half-hourly energy consumption by tariff rates\", \"font\": {\"family\": \"Arial\", \"size\": 20, \"color\": \"black\"}, \"xaxis\": {\"title\": \"Time(Hour)\", \"titlefont\": {\"family\": \"Arial\", \"size\": 18, \"color\": \"black\"}, \"tickfont\": {\"family\": \"Arial\", \"size\": 14, \"color\": \"black\"}, \"tickvals\": [0, 2, 4, 6, 8, 10, 12, 14, 16, 18, 20, 22, 24, 26, 28, 30, 32, 34, 36, 38, 40, 42, 44, 46], \"ticktext\": [\"12AM\", \"1AM\", \"2AM\", \"3AM\", \"4AM\", \"5AM\", \"6AM\", \"7AM\", \"8AM\", \"9AM\", \"10AM\", \"11AM\", \"12PM\", \"1PM\", \"2PM\", \"3PM\", \"4PM\", \"5PM\", \"6PM\", \"7PM\", \"8PM\", \"9PM\", \"10PM\", \"11PM\"], \"tickangle\": -45}, \"yaxis\": {\"title\": \"Avg. Energy Consumption per half hour(KWh/hh)\", \"titlefont\": {\"family\": \"Arial\", \"size\": 18, \"color\": \"black\"}, \"tickfont\": {\"family\": \"Arial\", \"size\": 14, \"color\": \"black\"}}}, {\"showLink\": true, \"linkText\": \"Export to plot.ly\"})});</script>"
      ]
     },
     "metadata": {},
     "output_type": "display_data"
    }
   ],
   "source": [
    "data = [\n",
    "        go.Scatter(\n",
    "        x=df_dtou_halfhourly_energy_usage.index, # assign x as the dataframe column \n",
    "        y=df_dtou_halfhourly_energy_usage['High'], # assign y as the dataframe column\n",
    "        name='High Tariff',# text displayed as legend label\n",
    "        mode='lines+markers',\n",
    "        marker=dict(\n",
    "                 size=8,\n",
    "                 color=\"#E3B505\",\n",
    "                 line=dict(width=2)\n",
    "                     )\n",
    "                     ),\n",
    "        go.Scatter(\n",
    "        x=df_dtou_halfhourly_energy_usage.index, # assign x as the dataframe column \n",
    "        y=df_dtou_halfhourly_energy_usage['Normal'], # assign y as the dataframe column\n",
    "        name='Normal Tariff',# text displayed as legend label\n",
    "        mode='lines+markers',\n",
    "        marker=dict(\n",
    "                 size=8,\n",
    "                 color=\"#C5283D\",\n",
    "                 line=dict(width=2)\n",
    "                     ),\n",
    "                     ),\n",
    "        go.Scatter(\n",
    "        x=df_dtou_halfhourly_energy_usage.index, # assign x as the dataframe column \n",
    "        y=df_dtou_halfhourly_energy_usage['Low'], # assign y as the dataframe column\n",
    "        name='Low Tariff',# text displayed as legend label\n",
    "        mode='lines+markers',\n",
    "        marker=dict(\n",
    "                 size=8,\n",
    "                 color=\"yellowgreen\",\n",
    "                 line=dict(width=2)\n",
    "                     )\n",
    "                     )]    \n",
    "layout = go.Layout(\n",
    "         autosize=False,\n",
    "         width=1000,\n",
    "         height=600,\n",
    "         title='Half-hourly energy consumption by tariff rates',\n",
    "         font=dict(family='Arial', size=20, color='black'),\n",
    "         xaxis=dict(\n",
    "               title='Time(Hour)',\n",
    "               titlefont=dict(\n",
    "                         family='Arial',\n",
    "                         size=18,\n",
    "                         color='black'),\n",
    "         tickfont=dict(\n",
    "                  family='Arial',\n",
    "                  size=14,\n",
    "                  color='black'),\n",
    "         tickvals=[k*2 for k in range(0,24)],\n",
    "         ticktext=['12AM', '1AM', '2AM', '3AM', '4AM', '5AM', '6AM', '7AM', '8AM', '9AM', '10AM', '11AM', '12PM',\n",
    "                   '1PM', '2PM', '3PM', '4PM','5PM','6PM','7PM','8PM','9PM','10PM','11PM'],\n",
    "         tickangle=-45),\n",
    "         yaxis=dict(\n",
    "               title='Avg. Energy Consumption per half hour(KWh/hh)',\n",
    "               titlefont=dict(\n",
    "               family='Arial',\n",
    "               size=18,\n",
    "               color='black'),\n",
    "               tickfont=dict(\n",
    "                        family='Arial',\n",
    "                        size=14,\n",
    "                        color='black')))\n",
    "iplot({'data':data,'layout':layout})"
   ]
  },
  {
   "cell_type": "code",
   "execution_count": 28,
   "metadata": {},
   "outputs": [],
   "source": [
    "#### Energy use by Acorn group for 2013\n",
    "df_final_data_2013['month'] = df_final_data_2013['month'].apply(lambda x: calendar.month_abbr[x])\n",
    "df_final_data_2013['KWh'] = df_final_data_2013[\"KWh\"].convert_objects(convert_numeric=True)\n",
    "df_aeg = df_final_data_2013.groupby(by=['Acorn_grouped', 'month'], sort=False)['KWh'].mean()\n",
    "df_aeg = df_aeg.unstack(level=0)"
   ]
  },
  {
   "cell_type": "code",
   "execution_count": 30,
   "metadata": {},
   "outputs": [
    {
     "data": {
      "application/vnd.plotly.v1+json": {
       "data": [
        {
         "marker": {
          "color": "#255F85",
          "line": {
           "width": 2
          },
          "size": 4
         },
         "mode": "lines+markers",
         "name": "Affluent",
         "type": "scatter",
         "x": [
          "Jan",
          "Feb",
          "Mar",
          "Apr",
          "May",
          "Jun",
          "Jul",
          "Aug",
          "Sep",
          "Oct",
          "Nov",
          "Dec"
         ],
         "y": [
          0.33037219317375943,
          0.3241775281834758,
          0.3113007463152639,
          0.2493117564661666,
          0.21312154976883246,
          0.19845330658163,
          0.18288885782153871,
          0.17690219355664302,
          0.20294988363083774,
          0.22614686324806862,
          0.274322198173529,
          0.2885633845292464
         ]
        },
        {
         "marker": {
          "color": "#E3B505",
          "line": {
           "width": 2
          },
          "size": 4
         },
         "mode": "lines+markers",
         "name": "Adversity",
         "type": "scatter",
         "x": [
          "Jan",
          "Feb",
          "Mar",
          "Apr",
          "May",
          "Jun",
          "Jul",
          "Aug",
          "Sep",
          "Oct",
          "Nov",
          "Dec"
         ],
         "y": [
          0.2267723410112524,
          0.22230558043334556,
          0.2130658774542478,
          0.18430364653030348,
          0.16673317182479613,
          0.15369057808092632,
          0.15097553516362106,
          0.14652191870708417,
          0.1584638231407324,
          0.17544910532714258,
          0.19620036783671085,
          0.20714898361552747
         ]
        },
        {
         "marker": {
          "color": "#C5283D",
          "line": {
           "width": 2
          },
          "size": 4
         },
         "mode": "lines+markers",
         "name": "Comfortable",
         "type": "scatter",
         "x": [
          "Jan",
          "Feb",
          "Mar",
          "Apr",
          "May",
          "Jun",
          "Jul",
          "Aug",
          "Sep",
          "Oct",
          "Nov",
          "Dec"
         ],
         "y": [
          0.2353074418003226,
          0.22854508070675128,
          0.22681704936439365,
          0.1975500092578417,
          0.17815662433355706,
          0.1685661465831547,
          0.16928740698156805,
          0.16373278514569792,
          0.17563895601106688,
          0.1907293086419205,
          0.2138819742820538,
          0.23345385243661954
         ]
        }
       ],
       "layout": {
        "autosize": false,
        "font": {
         "color": "black",
         "family": "Arial",
         "size": 20
        },
        "height": 500,
        "title": "Mean energy consumption per ACORN group for the year 2013",
        "width": 900,
        "xaxis": {
         "gridwidth": 2,
         "tickfont": {
          "color": "black",
          "family": "Arial",
          "size": 14
         },
         "title": "Month",
         "titlefont": {
          "color": "black",
          "family": "Arial",
          "size": 18
         }
        },
        "yaxis": {
         "gridwidth": 2,
         "tickfont": {
          "color": "black",
          "family": "Arial",
          "size": 14
         },
         "title": "Average Energy consumption(KWh)",
         "titlefont": {
          "color": "black",
          "family": "Arial",
          "size": 18
         }
        }
       }
      },
      "text/html": [
       "<div id=\"ba4f9736-cb68-4c20-90d8-128c843ac185\" style=\"height: 500px; width: 900px;\" class=\"plotly-graph-div\"></div><script type=\"text/javascript\">require([\"plotly\"], function(Plotly) { window.PLOTLYENV=window.PLOTLYENV || {};window.PLOTLYENV.BASE_URL=\"https://plot.ly\";Plotly.newPlot(\"ba4f9736-cb68-4c20-90d8-128c843ac185\", [{\"type\": \"scatter\", \"x\": [\"Jan\", \"Feb\", \"Mar\", \"Apr\", \"May\", \"Jun\", \"Jul\", \"Aug\", \"Sep\", \"Oct\", \"Nov\", \"Dec\"], \"y\": [0.33037219317375943, 0.3241775281834758, 0.3113007463152639, 0.2493117564661666, 0.21312154976883246, 0.19845330658163, 0.18288885782153871, 0.17690219355664302, 0.20294988363083774, 0.22614686324806862, 0.274322198173529, 0.2885633845292464], \"name\": \"Affluent\", \"mode\": \"lines+markers\", \"marker\": {\"size\": 4, \"color\": \"#255F85\", \"line\": {\"width\": 2}}}, {\"type\": \"scatter\", \"x\": [\"Jan\", \"Feb\", \"Mar\", \"Apr\", \"May\", \"Jun\", \"Jul\", \"Aug\", \"Sep\", \"Oct\", \"Nov\", \"Dec\"], \"y\": [0.2267723410112524, 0.22230558043334556, 0.2130658774542478, 0.18430364653030348, 0.16673317182479613, 0.15369057808092632, 0.15097553516362106, 0.14652191870708417, 0.1584638231407324, 0.17544910532714258, 0.19620036783671085, 0.20714898361552747], \"name\": \"Adversity\", \"mode\": \"lines+markers\", \"marker\": {\"size\": 4, \"color\": \"#E3B505\", \"line\": {\"width\": 2}}}, {\"type\": \"scatter\", \"x\": [\"Jan\", \"Feb\", \"Mar\", \"Apr\", \"May\", \"Jun\", \"Jul\", \"Aug\", \"Sep\", \"Oct\", \"Nov\", \"Dec\"], \"y\": [0.2353074418003226, 0.22854508070675128, 0.22681704936439365, 0.1975500092578417, 0.17815662433355706, 0.1685661465831547, 0.16928740698156805, 0.16373278514569792, 0.17563895601106688, 0.1907293086419205, 0.2138819742820538, 0.23345385243661954], \"name\": \"Comfortable\", \"mode\": \"lines+markers\", \"marker\": {\"size\": 4, \"color\": \"#C5283D\", \"line\": {\"width\": 2}}}], {\"autosize\": false, \"width\": 900, \"height\": 500, \"title\": \"Mean energy consumption per ACORN group for the year 2013\", \"font\": {\"family\": \"Arial\", \"size\": 20, \"color\": \"black\"}, \"xaxis\": {\"title\": \"Month\", \"titlefont\": {\"family\": \"Arial\", \"size\": 18, \"color\": \"black\"}, \"tickfont\": {\"family\": \"Arial\", \"size\": 14, \"color\": \"black\"}, \"gridwidth\": 2}, \"yaxis\": {\"title\": \"Average Energy consumption(KWh)\", \"titlefont\": {\"family\": \"Arial\", \"size\": 18, \"color\": \"black\"}, \"tickfont\": {\"family\": \"Arial\", \"size\": 14, \"color\": \"black\"}, \"gridwidth\": 2}}, {\"showLink\": true, \"linkText\": \"Export to plot.ly\"})});</script>"
      ],
      "text/vnd.plotly.v1+html": [
       "<div id=\"ba4f9736-cb68-4c20-90d8-128c843ac185\" style=\"height: 500px; width: 900px;\" class=\"plotly-graph-div\"></div><script type=\"text/javascript\">require([\"plotly\"], function(Plotly) { window.PLOTLYENV=window.PLOTLYENV || {};window.PLOTLYENV.BASE_URL=\"https://plot.ly\";Plotly.newPlot(\"ba4f9736-cb68-4c20-90d8-128c843ac185\", [{\"type\": \"scatter\", \"x\": [\"Jan\", \"Feb\", \"Mar\", \"Apr\", \"May\", \"Jun\", \"Jul\", \"Aug\", \"Sep\", \"Oct\", \"Nov\", \"Dec\"], \"y\": [0.33037219317375943, 0.3241775281834758, 0.3113007463152639, 0.2493117564661666, 0.21312154976883246, 0.19845330658163, 0.18288885782153871, 0.17690219355664302, 0.20294988363083774, 0.22614686324806862, 0.274322198173529, 0.2885633845292464], \"name\": \"Affluent\", \"mode\": \"lines+markers\", \"marker\": {\"size\": 4, \"color\": \"#255F85\", \"line\": {\"width\": 2}}}, {\"type\": \"scatter\", \"x\": [\"Jan\", \"Feb\", \"Mar\", \"Apr\", \"May\", \"Jun\", \"Jul\", \"Aug\", \"Sep\", \"Oct\", \"Nov\", \"Dec\"], \"y\": [0.2267723410112524, 0.22230558043334556, 0.2130658774542478, 0.18430364653030348, 0.16673317182479613, 0.15369057808092632, 0.15097553516362106, 0.14652191870708417, 0.1584638231407324, 0.17544910532714258, 0.19620036783671085, 0.20714898361552747], \"name\": \"Adversity\", \"mode\": \"lines+markers\", \"marker\": {\"size\": 4, \"color\": \"#E3B505\", \"line\": {\"width\": 2}}}, {\"type\": \"scatter\", \"x\": [\"Jan\", \"Feb\", \"Mar\", \"Apr\", \"May\", \"Jun\", \"Jul\", \"Aug\", \"Sep\", \"Oct\", \"Nov\", \"Dec\"], \"y\": [0.2353074418003226, 0.22854508070675128, 0.22681704936439365, 0.1975500092578417, 0.17815662433355706, 0.1685661465831547, 0.16928740698156805, 0.16373278514569792, 0.17563895601106688, 0.1907293086419205, 0.2138819742820538, 0.23345385243661954], \"name\": \"Comfortable\", \"mode\": \"lines+markers\", \"marker\": {\"size\": 4, \"color\": \"#C5283D\", \"line\": {\"width\": 2}}}], {\"autosize\": false, \"width\": 900, \"height\": 500, \"title\": \"Mean energy consumption per ACORN group for the year 2013\", \"font\": {\"family\": \"Arial\", \"size\": 20, \"color\": \"black\"}, \"xaxis\": {\"title\": \"Month\", \"titlefont\": {\"family\": \"Arial\", \"size\": 18, \"color\": \"black\"}, \"tickfont\": {\"family\": \"Arial\", \"size\": 14, \"color\": \"black\"}, \"gridwidth\": 2}, \"yaxis\": {\"title\": \"Average Energy consumption(KWh)\", \"titlefont\": {\"family\": \"Arial\", \"size\": 18, \"color\": \"black\"}, \"tickfont\": {\"family\": \"Arial\", \"size\": 14, \"color\": \"black\"}, \"gridwidth\": 2}}, {\"showLink\": true, \"linkText\": \"Export to plot.ly\"})});</script>"
      ]
     },
     "metadata": {},
     "output_type": "display_data"
    }
   ],
   "source": [
    "trace1 = go.Scatter(\n",
    "         x=df_aeg.index,\n",
    "         y=df_aeg.Affluent,                   \n",
    "         name='Affluent',\n",
    "         mode='lines+markers',\n",
    "         marker=dict(\n",
    "                size=4,\n",
    "                color=\"#255F85\",\n",
    "                line=dict(width=2)),\n",
    "                   ) \n",
    "trace2 = go.Scatter(\n",
    "         x=df_aeg.index,\n",
    "         y=df_aeg.Adversity,                   \n",
    "         name='Adversity',\n",
    "         mode='lines+markers',\n",
    "         marker=dict(\n",
    "                size=4,\n",
    "                color=\"#E3B505\",\n",
    "                line=dict(width=2)),\n",
    "                   ) \n",
    "trace3 = go.Scatter(\n",
    "         x=df_aeg.index,\n",
    "         y=df_aeg.Comfortable,                   \n",
    "         name='Comfortable',\n",
    "         mode='lines+markers',\n",
    "         marker=dict(\n",
    "                size=4,\n",
    "                color=\"#C5283D\",\n",
    "                line=dict(width=2)),\n",
    "                    ) \n",
    "data = [trace1, trace2,trace3]\n",
    "layout = go.Layout(\n",
    "         autosize=False,\n",
    "         width=900,\n",
    "         height=500,\n",
    "         title='Mean energy consumption per ACORN group for the year 2013',\n",
    "         font=dict(family='Arial', size=20, color='black'),\n",
    "         xaxis=dict(\n",
    "               title='Month',\n",
    "               titlefont=dict(\n",
    "               family='Arial',\n",
    "               size=18,\n",
    "               color='black'),\n",
    "         tickfont=dict(\n",
    "               family='Arial',\n",
    "               size=14,\n",
    "               color='black'),\n",
    "         gridwidth=2),\n",
    "        yaxis=dict(\n",
    "              title='Average Energy consumption(KWh)',\n",
    "              titlefont=dict(\n",
    "              family='Arial',\n",
    "              size=18,\n",
    "              color='black'),\n",
    "        tickfont=dict(\n",
    "              family='Arial',\n",
    "              size=14,\n",
    "              color='black'),\n",
    "        gridwidth=2))\n",
    "iplot({'data':data,'layout':layout})"
   ]
  },
  {
   "cell_type": "code",
   "execution_count": 39,
   "metadata": {},
   "outputs": [
    {
     "data": {
      "application/vnd.plotly.v1+json": {
       "data": [
        {
         "marker": {
          "color": "#255F85",
          "line": {
           "width": 2
          },
          "size": 4
         },
         "mode": "lines+markers",
         "name": "Affluent",
         "type": "scatter",
         "x": [
          "Jan",
          "Feb",
          "Mar",
          "Apr",
          "May",
          "Jun",
          "Jul",
          "Aug",
          "Sep",
          "Oct",
          "Nov",
          "Dec"
         ],
         "y": [
          0.33037219317375943,
          0.3241775281834758,
          0.3113007463152639,
          0.2493117564661666,
          0.21312154976883246,
          0.19845330658163,
          0.18288885782153871,
          0.17690219355664302,
          0.20294988363083774,
          0.22614686324806862,
          0.274322198173529,
          0.2885633845292464
         ]
        },
        {
         "marker": {
          "color": "#E3B505",
          "line": {
           "width": 2
          },
          "size": 4
         },
         "mode": "lines+markers",
         "name": "Adversity",
         "type": "scatter",
         "x": [
          "Jan",
          "Feb",
          "Mar",
          "Apr",
          "May",
          "Jun",
          "Jul",
          "Aug",
          "Sep",
          "Oct",
          "Nov",
          "Dec"
         ],
         "y": [
          0.2267723410112524,
          0.22230558043334556,
          0.2130658774542478,
          0.18430364653030348,
          0.16673317182479613,
          0.15369057808092632,
          0.15097553516362106,
          0.14652191870708417,
          0.1584638231407324,
          0.17544910532714258,
          0.19620036783671085,
          0.20714898361552747
         ]
        },
        {
         "marker": {
          "color": "#C5283D",
          "line": {
           "width": 2
          },
          "size": 4
         },
         "mode": "lines+markers",
         "name": "Comfortable",
         "type": "scatter",
         "x": [
          "Jan",
          "Feb",
          "Mar",
          "Apr",
          "May",
          "Jun",
          "Jul",
          "Aug",
          "Sep",
          "Oct",
          "Nov",
          "Dec"
         ],
         "y": [
          0.2353074418003226,
          0.22854508070675128,
          0.22681704936439365,
          0.1975500092578417,
          0.17815662433355706,
          0.1685661465831547,
          0.16928740698156805,
          0.16373278514569792,
          0.17563895601106688,
          0.1907293086419205,
          0.2138819742820538,
          0.23345385243661954
         ]
        },
        {
         "line": {
          "width": 4
         },
         "marker": {
          "color": "yellowgreen",
          "line": {
           "width": 2
          }
         },
         "mode": "lines+markers",
         "name": "temperature",
         "type": "scatter",
         "x": [
          "Jan",
          "Feb",
          "Mar",
          "Apr",
          "May",
          "Jun",
          "Jul",
          "Aug",
          "Sep",
          "Oct",
          "Nov",
          "Dec"
         ],
         "xaxis": "x1",
         "y": [
          4.50682795698925,
          3.800535714285714,
          3.833870967741933,
          8.625513888888898,
          11.65653225806453,
          15.102486111111107,
          20.039099462365566,
          18.50259408602148,
          14.809178272980509,
          13.342647849462368,
          7.586111111111109,
          7.2230913978494655
         ],
         "yaxis": "y2"
        }
       ],
       "layout": {
        "autosize": false,
        "font": {
         "color": "black",
         "family": "Arial",
         "size": 20
        },
        "height": 500,
        "legend": {
         "font": {
          "color": "black",
          "family": "Arial",
          "size": 14
         },
         "traceorder": "normal",
         "x": 1,
         "y": 1
        },
        "title": "Temperature vs mean energy consumption per ACORN group ",
        "width": 1000,
        "xaxis": {
         "gridwidth": 2,
         "tickfont": {
          "color": "black",
          "family": "Arial",
          "size": 14
         },
         "title": "Month",
         "titlefont": {
          "color": "black",
          "family": "Arial",
          "size": 18
         }
        },
        "yaxis": {
         "gridwidth": 2,
         "tickfont": {
          "color": "black",
          "family": "Arial",
          "size": 14
         },
         "title": "Avg. Energy consumption(KWh)",
         "titlefont": {
          "color": "black",
          "family": "Arial",
          "size": 18
         }
        },
        "yaxis2": {
         "gridwidth": 2,
         "overlaying": "y",
         "side": "right",
         "tickfont": {
          "color": "black",
          "family": "Arial",
          "size": 14
         },
         "title": "Temperature (C)",
         "titlefont": {
          "color": "black",
          "family": "Arial",
          "size": 18
         }
        }
       }
      },
      "text/html": [
       "<div id=\"7ca7ce75-20be-4dc5-99d1-615a193839de\" style=\"height: 500px; width: 1000px;\" class=\"plotly-graph-div\"></div><script type=\"text/javascript\">require([\"plotly\"], function(Plotly) { window.PLOTLYENV=window.PLOTLYENV || {};window.PLOTLYENV.BASE_URL=\"https://plot.ly\";Plotly.newPlot(\"7ca7ce75-20be-4dc5-99d1-615a193839de\", [{\"type\": \"scatter\", \"x\": [\"Jan\", \"Feb\", \"Mar\", \"Apr\", \"May\", \"Jun\", \"Jul\", \"Aug\", \"Sep\", \"Oct\", \"Nov\", \"Dec\"], \"y\": [0.33037219317375943, 0.3241775281834758, 0.3113007463152639, 0.2493117564661666, 0.21312154976883246, 0.19845330658163, 0.18288885782153871, 0.17690219355664302, 0.20294988363083774, 0.22614686324806862, 0.274322198173529, 0.2885633845292464], \"name\": \"Affluent\", \"mode\": \"lines+markers\", \"marker\": {\"size\": 4, \"color\": \"#255F85\", \"line\": {\"width\": 2}}}, {\"type\": \"scatter\", \"x\": [\"Jan\", \"Feb\", \"Mar\", \"Apr\", \"May\", \"Jun\", \"Jul\", \"Aug\", \"Sep\", \"Oct\", \"Nov\", \"Dec\"], \"y\": [0.2267723410112524, 0.22230558043334556, 0.2130658774542478, 0.18430364653030348, 0.16673317182479613, 0.15369057808092632, 0.15097553516362106, 0.14652191870708417, 0.1584638231407324, 0.17544910532714258, 0.19620036783671085, 0.20714898361552747], \"name\": \"Adversity\", \"mode\": \"lines+markers\", \"marker\": {\"size\": 4, \"color\": \"#E3B505\", \"line\": {\"width\": 2}}}, {\"type\": \"scatter\", \"x\": [\"Jan\", \"Feb\", \"Mar\", \"Apr\", \"May\", \"Jun\", \"Jul\", \"Aug\", \"Sep\", \"Oct\", \"Nov\", \"Dec\"], \"y\": [0.2353074418003226, 0.22854508070675128, 0.22681704936439365, 0.1975500092578417, 0.17815662433355706, 0.1685661465831547, 0.16928740698156805, 0.16373278514569792, 0.17563895601106688, 0.1907293086419205, 0.2138819742820538, 0.23345385243661954], \"name\": \"Comfortable\", \"mode\": \"lines+markers\", \"marker\": {\"size\": 4, \"color\": \"#C5283D\", \"line\": {\"width\": 2}}}, {\"type\": \"scatter\", \"x\": [\"Jan\", \"Feb\", \"Mar\", \"Apr\", \"May\", \"Jun\", \"Jul\", \"Aug\", \"Sep\", \"Oct\", \"Nov\", \"Dec\"], \"y\": [4.50682795698925, 3.800535714285714, 3.833870967741933, 8.625513888888898, 11.65653225806453, 15.102486111111107, 20.039099462365566, 18.50259408602148, 14.809178272980509, 13.342647849462368, 7.586111111111109, 7.2230913978494655], \"name\": \"temperature\", \"mode\": \"lines+markers\", \"line\": {\"width\": 4}, \"marker\": {\"color\": \"yellowgreen\", \"line\": {\"width\": 2}}, \"xaxis\": \"x1\", \"yaxis\": \"y2\"}], {\"autosize\": false, \"width\": 1000, \"height\": 500, \"title\": \"Temperature vs mean energy consumption per ACORN group \", \"font\": {\"family\": \"Arial\", \"size\": 20, \"color\": \"black\"}, \"xaxis\": {\"title\": \"Month\", \"titlefont\": {\"family\": \"Arial\", \"size\": 18, \"color\": \"black\"}, \"tickfont\": {\"family\": \"Arial\", \"size\": 14, \"color\": \"black\"}, \"gridwidth\": 2}, \"yaxis\": {\"title\": \"Avg. Energy consumption(KWh)\", \"titlefont\": {\"family\": \"Arial\", \"size\": 18, \"color\": \"black\"}, \"tickfont\": {\"family\": \"Arial\", \"size\": 14, \"color\": \"black\"}, \"gridwidth\": 2}, \"yaxis2\": {\"title\": \"Temperature (C)\", \"titlefont\": {\"family\": \"Arial\", \"size\": 18, \"color\": \"black\"}, \"tickfont\": {\"family\": \"Arial\", \"size\": 14, \"color\": \"black\"}, \"gridwidth\": 2, \"overlaying\": \"y\", \"side\": \"right\"}, \"legend\": {\"x\": 1, \"y\": 1, \"traceorder\": \"normal\", \"font\": {\"family\": \"Arial\", \"size\": 14, \"color\": \"black\"}}}, {\"showLink\": true, \"linkText\": \"Export to plot.ly\"})});</script>"
      ],
      "text/vnd.plotly.v1+html": [
       "<div id=\"7ca7ce75-20be-4dc5-99d1-615a193839de\" style=\"height: 500px; width: 1000px;\" class=\"plotly-graph-div\"></div><script type=\"text/javascript\">require([\"plotly\"], function(Plotly) { window.PLOTLYENV=window.PLOTLYENV || {};window.PLOTLYENV.BASE_URL=\"https://plot.ly\";Plotly.newPlot(\"7ca7ce75-20be-4dc5-99d1-615a193839de\", [{\"type\": \"scatter\", \"x\": [\"Jan\", \"Feb\", \"Mar\", \"Apr\", \"May\", \"Jun\", \"Jul\", \"Aug\", \"Sep\", \"Oct\", \"Nov\", \"Dec\"], \"y\": [0.33037219317375943, 0.3241775281834758, 0.3113007463152639, 0.2493117564661666, 0.21312154976883246, 0.19845330658163, 0.18288885782153871, 0.17690219355664302, 0.20294988363083774, 0.22614686324806862, 0.274322198173529, 0.2885633845292464], \"name\": \"Affluent\", \"mode\": \"lines+markers\", \"marker\": {\"size\": 4, \"color\": \"#255F85\", \"line\": {\"width\": 2}}}, {\"type\": \"scatter\", \"x\": [\"Jan\", \"Feb\", \"Mar\", \"Apr\", \"May\", \"Jun\", \"Jul\", \"Aug\", \"Sep\", \"Oct\", \"Nov\", \"Dec\"], \"y\": [0.2267723410112524, 0.22230558043334556, 0.2130658774542478, 0.18430364653030348, 0.16673317182479613, 0.15369057808092632, 0.15097553516362106, 0.14652191870708417, 0.1584638231407324, 0.17544910532714258, 0.19620036783671085, 0.20714898361552747], \"name\": \"Adversity\", \"mode\": \"lines+markers\", \"marker\": {\"size\": 4, \"color\": \"#E3B505\", \"line\": {\"width\": 2}}}, {\"type\": \"scatter\", \"x\": [\"Jan\", \"Feb\", \"Mar\", \"Apr\", \"May\", \"Jun\", \"Jul\", \"Aug\", \"Sep\", \"Oct\", \"Nov\", \"Dec\"], \"y\": [0.2353074418003226, 0.22854508070675128, 0.22681704936439365, 0.1975500092578417, 0.17815662433355706, 0.1685661465831547, 0.16928740698156805, 0.16373278514569792, 0.17563895601106688, 0.1907293086419205, 0.2138819742820538, 0.23345385243661954], \"name\": \"Comfortable\", \"mode\": \"lines+markers\", \"marker\": {\"size\": 4, \"color\": \"#C5283D\", \"line\": {\"width\": 2}}}, {\"type\": \"scatter\", \"x\": [\"Jan\", \"Feb\", \"Mar\", \"Apr\", \"May\", \"Jun\", \"Jul\", \"Aug\", \"Sep\", \"Oct\", \"Nov\", \"Dec\"], \"y\": [4.50682795698925, 3.800535714285714, 3.833870967741933, 8.625513888888898, 11.65653225806453, 15.102486111111107, 20.039099462365566, 18.50259408602148, 14.809178272980509, 13.342647849462368, 7.586111111111109, 7.2230913978494655], \"name\": \"temperature\", \"mode\": \"lines+markers\", \"line\": {\"width\": 4}, \"marker\": {\"color\": \"yellowgreen\", \"line\": {\"width\": 2}}, \"xaxis\": \"x1\", \"yaxis\": \"y2\"}], {\"autosize\": false, \"width\": 1000, \"height\": 500, \"title\": \"Temperature vs mean energy consumption per ACORN group \", \"font\": {\"family\": \"Arial\", \"size\": 20, \"color\": \"black\"}, \"xaxis\": {\"title\": \"Month\", \"titlefont\": {\"family\": \"Arial\", \"size\": 18, \"color\": \"black\"}, \"tickfont\": {\"family\": \"Arial\", \"size\": 14, \"color\": \"black\"}, \"gridwidth\": 2}, \"yaxis\": {\"title\": \"Avg. Energy consumption(KWh)\", \"titlefont\": {\"family\": \"Arial\", \"size\": 18, \"color\": \"black\"}, \"tickfont\": {\"family\": \"Arial\", \"size\": 14, \"color\": \"black\"}, \"gridwidth\": 2}, \"yaxis2\": {\"title\": \"Temperature (C)\", \"titlefont\": {\"family\": \"Arial\", \"size\": 18, \"color\": \"black\"}, \"tickfont\": {\"family\": \"Arial\", \"size\": 14, \"color\": \"black\"}, \"gridwidth\": 2, \"overlaying\": \"y\", \"side\": \"right\"}, \"legend\": {\"x\": 1, \"y\": 1, \"traceorder\": \"normal\", \"font\": {\"family\": \"Arial\", \"size\": 14, \"color\": \"black\"}}}, {\"showLink\": true, \"linkText\": \"Export to plot.ly\"})});</script>"
      ]
     },
     "metadata": {},
     "output_type": "display_data"
    }
   ],
   "source": [
    "trace1 = go.Scatter(\n",
    "         x=df_aeg.index,\n",
    "         y=df_aeg.Affluent,                   \n",
    "         name='Affluent',\n",
    "         mode='lines+markers',\n",
    "         marker=dict(\n",
    "                size=4,\n",
    "                color=\"#255F85\",\n",
    "                line=dict(width=2)),\n",
    "                   ) \n",
    "trace2 = go.Scatter(\n",
    "         x=df_aeg.index,\n",
    "         y=df_aeg.Adversity,                   \n",
    "         name='Adversity',\n",
    "         mode='lines+markers',\n",
    "         marker=dict(\n",
    "                size=4,\n",
    "                color=\"#E3B505\",\n",
    "                line=dict(width=2)),\n",
    "                   ) \n",
    "trace3 = go.Scatter(\n",
    "         x=df_aeg.index,\n",
    "         y=df_aeg.Comfortable,                   \n",
    "         name='Comfortable',\n",
    "         mode='lines+markers',\n",
    "         marker=dict(\n",
    "                size=4,\n",
    "                color=\"#C5283D\",\n",
    "                line=dict(width=2)),\n",
    "                    )  \n",
    "trace4 = go.Scatter(\n",
    "         x=df_weather.month,\n",
    "         y=df_weather.temperature,\n",
    "         name='temperature',\n",
    "         mode='lines+markers',\n",
    "         line=dict(width=4),\n",
    "         marker=dict(\n",
    "                  color=\"yellowgreen\",\n",
    "                  line=dict(width=2)),\n",
    "                  xaxis='x1', \n",
    "                  yaxis='y2')\n",
    "data = [trace1, trace2,trace3,trace4]\n",
    "layout = go.Layout(\n",
    "         autosize=False,\n",
    "         width=1000,\n",
    "         height=500,\n",
    "         title='Temperature vs mean energy consumption per ACORN group ',\n",
    "         font=dict(family='Arial', size=20, color='black'),\n",
    "         xaxis=dict(\n",
    "         title='Month',\n",
    "         titlefont=dict(\n",
    "                   family='Arial',\n",
    "                   size=18,\n",
    "                   color='black'),\n",
    "         tickfont=dict(\n",
    "                  family='Arial',\n",
    "                  size=14,\n",
    "                  color='black'),\n",
    "         gridwidth=2),\n",
    "         yaxis=dict(\n",
    "               title='Avg. Energy consumption(KWh)',\n",
    "               titlefont=dict(\n",
    "               family='Arial',\n",
    "               size=18,\n",
    "               color='black'),\n",
    "         tickfont=dict(\n",
    "                  family='Arial',\n",
    "                  size=14,\n",
    "                  color='black'),\n",
    "         gridwidth=2),\n",
    "         yaxis2=dict(\n",
    "                title='Temperature (C)',\n",
    "                titlefont=dict(\n",
    "                family='Arial',\n",
    "                size=18,\n",
    "                color='black'),\n",
    "         tickfont=dict(\n",
    "                family='Arial',\n",
    "                size=14,\n",
    "                color='black'),\n",
    "         gridwidth=2,\n",
    "         overlaying='y',\n",
    "         side='right'),\n",
    "         legend=dict(\n",
    "                x=1,\n",
    "                y=1,\n",
    "                traceorder='normal',\n",
    "         font=dict(\n",
    "              family='Arial',\n",
    "              size=14,\n",
    "              color='black')))\n",
    "iplot({'data':data,'layout':layout})"
   ]
  },
  {
   "cell_type": "code",
   "execution_count": 38,
   "metadata": {},
   "outputs": [],
   "source": [
    "## Energy consumption vs Temperature\n",
    "df_aeg_lm=df_final_data_2013.groupby(by=['month'],sort=False)['KWh'].mean()\n",
    "df_aeg_lm=df_aeg_lm.to_frame()"
   ]
  },
  {
   "cell_type": "code",
   "execution_count": 39,
   "metadata": {
    "scrolled": true
   },
   "outputs": [],
   "source": [
    "df_weather.set_index('month', inplace=True)"
   ]
  },
  {
   "cell_type": "code",
   "execution_count": 40,
   "metadata": {},
   "outputs": [],
   "source": [
    "df_temp_energy_lm=pd.DataFrame({'KWh':df_aeg_lm.KWh,'temperature':df_weather.temperature})"
   ]
  },
  {
   "cell_type": "code",
   "execution_count": 41,
   "metadata": {},
   "outputs": [
    {
     "data": {
      "image/png": "[encoded data removed]",
      "text/plain": [
       "<Figure size 576x288 with 1 Axes>"
      ]
     },
     "metadata": {},
     "output_type": "display_data"
    }
   ],
   "source": [
    "sns.set_style('whitegrid',{'font.family':'serif', 'font.serif':'Old Standard TT'})\n",
    "sns.lmplot(x='KWh', y='temperature',data=df_temp_energy_lm,size=4, aspect=2)\n",
    "plt.xticks(fontsize=14, rotation=360,color='black')\n",
    "plt.yticks(fontsize=14,color='black')\n",
    "plt.xlabel(\"Average Energy Consumption(KWh)\", fontsize=16,labelpad=12,color='black')\n",
    "plt.ylabel(\"Temperature(C)\", fontsize=16,labelpad=12,color='black')\n",
    "plt.title(\"Energy consumption vs Temperature\",fontsize=18,y=1.02,color='black')\n",
    "plt.grid(linewidth=0.5)\n",
    "plt.show();"
   ]
  }
 ],
 "metadata": {
  "kernelspec": {
   "display_name": "Python 3",
   "language": "python",
   "name": "python3"
  },
  "language_info": {
   "codemirror_mode": {
    "name": "ipython",
    "version": 3
   },
   "file_extension": ".py",
   "mimetype": "text/x-python",
   "name": "python",
   "nbconvert_exporter": "python",
   "pygments_lexer": "ipython3",
   "version": "3.7.2"
  }
 },
 "nbformat": 4,
 "nbformat_minor": 2
}
